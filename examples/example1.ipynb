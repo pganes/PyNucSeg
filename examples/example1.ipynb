{
 "cells": [
  {
   "attachments": {},
   "cell_type": "markdown",
   "metadata": {},
   "source": [
    "Import the required libraries."
   ]
  },
  {
   "cell_type": "code",
   "execution_count": null,
   "metadata": {},
   "outputs": [],
   "source": [
    "from pynucseg import ReferenceImage # or import pynucseg\n",
    "import numpy as np\n",
    "import pandas as pd  # \"!pip install pandas\"\n",
    "import matplotlib.pyplot as plt\n",
    "import matplotlib.colors as colors\n",
    "import plotly.express as px # !pip install plotly nbformat\n",
    "import plotly.io as pio # kaleido is required. TO install >>> !pip install -U kaleido\n",
    "import seaborn as sns\n",
    "import shelve\n",
    "import tifffile"
   ]
  },
  {
   "attachments": {},
   "cell_type": "markdown",
   "metadata": {},
   "source": [
    "Define file path and names. "
   ]
  },
  {
   "cell_type": "code",
   "execution_count": null,
   "metadata": {},
   "outputs": [],
   "source": [
    "root_path = 'E:/Lab/' # 'D:/User Folders/Ganesh/' \n",
    "file_path = 'Data/H3K27ac + PolII/Effect of fixation method/Intensity measurement in PBS/230503 v6.5 P2 D1/'\n",
    "\n",
    "# output_path = \"Python output\".join(file_path.split('SRX output'))\n",
    "output_path = file_path\n",
    "n_fov = 6  # number of filed of views\n",
    "start_fov = 4  # by default it should be 0\n",
    "n_channel = 2  # number of channels with fluorescent nucleus \n",
    "field_of_view='f' # the very first prefix of the file name\n",
    "probe1_name = 'H3K27ac-AF647' # 'H2B', 'H3K36me3\n",
    "probe2_name = 'PolII-AF488'\n",
    "transmitted_name ='t'\n",
    "imaging_setup = {'Laser': ['640nm', ['488nm']],\n",
    "                 'Power': [\"0.1'%' of 60%\",\"0.1'%' of 60%\" ],\n",
    "                 'Exposure': ['100ms', '100ms'],\n",
    "                 }"
   ]
  },
  {
   "attachments": {},
   "cell_type": "markdown",
   "metadata": {},
   "source": [
    "Construct ReferenceImage objects and store images, perform smoothing and intensity computations inplace."
   ]
  },
  {
   "cell_type": "code",
   "execution_count": null,
   "metadata": {},
   "outputs": [],
   "source": [
    "for fov in range(start_fov,start_fov+n_fov):\n",
    "    img = ReferenceImage(root_path=root_path,\n",
    "                   file_path=file_path,\n",
    "                   field_of_view=field_of_view+str(fov+1),\n",
    "                   probe1_name=probe1_name,\n",
    "                   probe2_name=probe2_name,\n",
    "                   transmitted_name='t',\n",
    "                   imaging_setup=imaging_setup,\n",
    "                   )\n",
    "    # median filtering to smooth out\n",
    "    img.smoothing(image_name=probe2_name,sigma=8)\n",
    "\n",
    "    # run segmentation\n",
    "    img.run_segmentaion2d(prob_thresh=0.5,\n",
    "                          nms_threhold=0.01,\n",
    "                          scale=0.2,  # scale down the image prior segmentation,\n",
    "                          )\n",
    "\n",
    "    # get measuremtns, save result inplace, do not spit out\n",
    "    # default area per pixel is 0.01 um^2 assuming 1 pixel=100nm\n",
    "    # Area_threshold = [amin, amax]. Nuclei with area smaller than amin and \n",
    "    # larger than amax will be rejected\n",
    "    img.get_cell_info(probe_names=[probe1_name,probe2_name],\n",
    "                      a_pixel_area=0.01,area_threshold=[65,200]) "
   ]
  },
  {
   "attachments": {},
   "cell_type": "markdown",
   "metadata": {},
   "source": [
    "List out all the fovs of ReferenceImage"
   ]
  },
  {
   "cell_type": "code",
   "execution_count": null,
   "metadata": {},
   "outputs": [],
   "source": [
    "imgs_list = ReferenceImage.all_fovs"
   ]
  },
  {
   "attachments": {},
   "cell_type": "markdown",
   "metadata": {},
   "source": [
    "Contour centers."
   ]
  },
  {
   "cell_type": "code",
   "execution_count": null,
   "metadata": {},
   "outputs": [],
   "source": [
    "all_contour_center = {}\n",
    "for fov in range(start_fov,start_fov+n_fov):\n",
    "        # current field of view (or image)\n",
    "        img = imgs_list[fov-start_fov]\n",
    "\n",
    "        contour_centers = np.zeros((img.n_true_nucleus,2)) \n",
    "        for i,ind in enumerate(img.true_nucleus):\n",
    "                # print(i,ind)\n",
    "                contour_centers[i,:] = np.mean(img.contours[int(ind[0])],axis=0)\n",
    "        \n",
    "        all_contour_center[fov] = contour_centers"
   ]
  },
  {
   "attachments": {},
   "cell_type": "markdown",
   "metadata": {},
   "source": [
    "Plot the images and the (background and area filtered ) contours. "
   ]
  },
  {
   "cell_type": "code",
   "execution_count": null,
   "metadata": {},
   "outputs": [],
   "source": [
    "%%capture\n",
    "# %%capture supress the printouts of figure on jupyter notebook\n",
    "\n",
    "# Adjust brightness and contrast / set normalizations ADU count\n",
    "vmin0, vmax0 = 2000, 30000  # For Transmitted light image\n",
    "vmin1, vmax1 = 150, 3000  # For Probe 1 images\n",
    "vmin2, vmax2 = 150, 1500  # For probe 2 images\n",
    "\n",
    "\n",
    "fontsize = 20\n",
    "for fov in range(start_fov,start_fov+n_fov):\n",
    "\n",
    "        # current field of view (or image)\n",
    "        img = imgs_list[fov-start_fov]\n",
    "\n",
    "        fig, axs = plt.subplots(1,3, figsize=(25,10));\n",
    "        # Hide the axis and label\n",
    "        for ax in axs:\n",
    "                ax.axis('off')\n",
    "                # Plot contours in all subplots\n",
    "                for i,ind in enumerate(img.true_nucleus):\n",
    "                        ax.plot(img.contours[int(ind[0])][:,1],\n",
    "                                img.contours[int(ind[0])][:,0]);\n",
    "\n",
    "        # Plot transmitted Image \n",
    "        axs[0].imshow(img.image['t'],\n",
    "                      cmap='gray',vmin=vmin0,vmax=vmax0);\n",
    "        axs[0].set_title('Transmitted (w/ cell_ID and area in $\\mu m^2$)',fontsize=fontsize);\n",
    "\n",
    "        for i,ind in enumerate(img.true_nucleus):\n",
    "                text_to_show = f\"ID:{int(ind[0])}\\n{round(img.seg['area_n_bdry_filtered_area_in_um2'][i,0],2)}\"\n",
    "                axs[0].text(all_contour_center[fov][i,1], \n",
    "                            all_contour_center[fov][i,0], \n",
    "                            text_to_show, color = 'k', fontweight='bold',\n",
    "                            bbox=dict(facecolor='w', edgecolor='none', alpha=0.3),\n",
    "                            fontsize=8, ha='center', va='center');\n",
    "\n",
    "        # Plot Probe 1\n",
    "        axs[1].imshow(img.image[probe1_name],\n",
    "                      cmap='gray', vmin=vmin1,vmax=vmax1); # norm=colors.LogNorm(vmin=100,vmax=5000)\n",
    "        axs[1].set_title(f\"{probe1_name} w/ meanADU/px [Norm:{vmin1}-{vmax1}]\",fontsize=fontsize);\n",
    "        for i,ind in enumerate(img.true_nucleus):\n",
    "                text_to_show = f\"ID:{int(ind[0])}\\n{round(img.ADU_counts[i,0])}\"\n",
    "                axs[1].text(all_contour_center[fov][i,1],\n",
    "                            all_contour_center[fov][i,0], \n",
    "                            text_to_show,color = 'k', fontweight='bold',\n",
    "                            bbox=dict(facecolor='w', edgecolor='none', alpha=0.3),\n",
    "                            fontsize=8, ha='center', va='center');\n",
    "\n",
    "        # Plot probe 2\n",
    "        axs[2].imshow(img.image[probe2_name],\n",
    "                      cmap='gray', vmin=vmin2,vmax=vmax2);\n",
    "        axs[2].set_title(f\"{probe2_name} w/ meanADU/px [Norm:{vmin2}-{vmax2}]\",fontsize=fontsize);\n",
    "        for i,ind in enumerate(img.true_nucleus):\n",
    "                text_to_show = f\"ID:{int(ind[0])}\\n{round(img.ADU_counts[i,1])}\"\n",
    "                axs[2].text(all_contour_center[fov][i,1],\n",
    "                            all_contour_center[fov][i,0],\n",
    "                            text_to_show,color = 'k', fontweight='bold',\n",
    "                            bbox=dict(facecolor='w', edgecolor='none', alpha=0.3),\n",
    "                            fontsize=8, ha='center', va='center');\n",
    "        fig.tight_layout();\n",
    "        fig.suptitle('FOV: '+str(fov+1), fontsize=fontsize+2, fontweight='bold')\n",
    "        fig.savefig(root_path+output_path+'Segmented_img f'+str(fov+1)+'.png',dpi=300);"
   ]
  },
  {
   "attachments": {},
   "cell_type": "markdown",
   "metadata": {},
   "source": [
    "Extract result to DataFrame, and save to disk as csv."
   ]
  },
  {
   "cell_type": "code",
   "execution_count": null,
   "metadata": {},
   "outputs": [],
   "source": [
    "# # Create an empty Pandas data frame with column names\n",
    "# df = pd.DataFrame(columns=['FOV_ID', 'Cell_ID','Area_px' ,'Area_um2',probe1_name,probe2_name])\n",
    "\n",
    "# for fov in range(start_fov,start_fov+n_fov):\n",
    "\n",
    "#     # current field of view (or image)\n",
    "#     img = imgs_list[fov-start_fov]\n",
    "\n",
    "#     # add FOV_ID and Cell_ID column in ADU_count\n",
    "#     data = np.hstack(\n",
    "#         (np.repeat(fov+1,img.n_true_nucleus).reshape(-1,1),\n",
    "#          img.seg['area_n_bdry_filtered_IDs'],\n",
    "#          img.seg['area_n_bdry_filtered_area'],\n",
    "#          img.seg['area_n_bdry_filtered_area_in_um2'],\n",
    "#          img.ADU_counts,\n",
    "#          ))\n",
    "#     # # concatenate  the values in the main dataframe\n",
    "#     df = pd.concat([df, pd.DataFrame(data=data, columns=df.columns)], ignore_index=True)\n",
    "\n",
    "# # remove #.0 type data to pure int type\n",
    "# df['FOV_ID'] = df['FOV_ID'].astype(int)  \n",
    "# df['Cell_ID'] = df['Cell_ID'].astype(int)  \n",
    "\n",
    "# # convert int to str type to use number as categorical\n",
    "# df['FOV_ID'] = df['FOV_ID'].astype(str)  #  str make FOV_ID categorical\n",
    "# df['Cell_ID'] = df['Cell_ID'].astype(str)  #  str make FOV_ID categorical\n",
    "\n",
    "# # save DataFrame to disk as csv\n",
    "# df.to_csv(root_path+output_path+'mean_intensity_per_pxl.csv',index=False)"
   ]
  },
  {
   "attachments": {},
   "cell_type": "markdown",
   "metadata": {},
   "source": [
    "Compute mean and standard error of measuremt."
   ]
  },
  {
   "cell_type": "code",
   "execution_count": null,
   "metadata": {},
   "outputs": [],
   "source": [
    "# stat = df[[probe1_name,probe2_name]].describe() # get count, mean, std, min, 25%, 50%, 75%, max\n",
    "# n_cells = stat.loc['count'][0] # number of cells, i.e. data points\n",
    "# std_err = stat.loc['std']/np.sqrt(n_cells) # standard error"
   ]
  },
  {
   "attachments": {},
   "cell_type": "markdown",
   "metadata": {},
   "source": [
    "Violin, Box, and Scatter plot for mean intensities per nucleus per probe. "
   ]
  },
  {
   "cell_type": "code",
   "execution_count": null,
   "metadata": {},
   "outputs": [],
   "source": [
    "# title = 'Intensity comparision on two color channels'\n",
    "# fig, ax = plt.subplots()\n",
    "# # ax = sns.violinplot(data=df[[probe1_name,probe2_name]], inner=None, linewidth=1, saturation=0.5,alpha=0)\n",
    "\n",
    "# # # change alpha for edges and faces\n",
    "# # ax.collections[0].set_edgecolor((1,0,1, 1))\n",
    "# # ax.collections[1].set_edgecolor((0,1, 1,1))\n",
    "# # ax.collections[0].set_facecolor((1,0,1, 0.05))\n",
    "# # ax.collections[1].set_facecolor((0,1,1, 0.05))\n",
    "\n",
    "# sns.boxplot(data=df[[probe1_name,probe2_name]], saturation=0.5, width=0.2,\n",
    "#             palette='rocket', boxprops={'zorder': 2,'facecolor': 'None'},  ax=ax,\n",
    "#             showfliers=False)\n",
    "\n",
    "# sns.stripplot(data=df[[probe1_name,probe2_name]], jitter=True)\n",
    "\n",
    "\n",
    "# ax.plot([0,1],stat.loc['mean'],'sg')\n",
    "# # Add text to the plot\n",
    "# plt.text(0+0.1, stat.loc['mean'][probe1_name], \n",
    "#         f\"$\\mu=${round(stat.loc['mean'][probe1_name])}\"+\\\n",
    "#         u\"\\u00B1\"+\\\n",
    "#         f\"{round(std_err[probe1_name])}\")  # u\"\\u00B1\" = +- symbol\n",
    "# plt.text(1+0.1, stat.loc['mean'][probe2_name], \n",
    "#         f\"$\\mu=${round(stat.loc['mean'][probe2_name])}\"+\\\n",
    "#         u\"\\u00B1\"+\\\n",
    "#         f\"{round(std_err[probe2_name])}\")\n",
    "\n",
    "# # adjust axis limits\n",
    "# # ax.set_ylim(-100,3000)\n",
    "# ax.set_xlim(-0.5,1.5)\n",
    "# ax.set_ylabel('Mean intensity per pixel')\n",
    "# ax.set_title(title+f'\\n(n={int(n_cells)})')\n",
    "# # show plot\n",
    "# plt.savefig(root_path+output_path+ title+'.png')\n",
    "# # plt.show();"
   ]
  },
  {
   "attachments": {},
   "cell_type": "markdown",
   "metadata": {},
   "source": [
    "Area versus intensity per probe."
   ]
  },
  {
   "cell_type": "code",
   "execution_count": null,
   "metadata": {},
   "outputs": [],
   "source": [
    "# fig = px.scatter(data_frame=df,\n",
    "#                  x='Area_um2',\n",
    "#                  y=[probe1_name],\n",
    "#                  color='FOV_ID',\n",
    "#                  hover_data=['FOV_ID','Cell_ID'])\n",
    "# fig.update_layout(\n",
    "#     yaxis_title='Mean intensity per pixel',\n",
    "#     xaxis_title='Area of cell in um^2',\n",
    "#     title=dict(\n",
    "#         text=probe1_name+' intensity versus nucleus size',\n",
    "#         x=0.5,\n",
    "#         y=0.95,\n",
    "#         xanchor=\"center\",\n",
    "#         yanchor=\"top\",\n",
    "#         ),\n",
    "# )\n",
    "# pio.write_image(fig, root_path+output_path+'area_vs_intensity '+probe1_name+'.png',format='png')\n",
    "# # fig.show()"
   ]
  },
  {
   "cell_type": "code",
   "execution_count": null,
   "metadata": {},
   "outputs": [],
   "source": [
    "# fig = px.scatter(data_frame=df,\n",
    "#                  x='Area_um2',\n",
    "#                  y=[probe2_name],\n",
    "#                  color='FOV_ID',\n",
    "#                  hover_data=['FOV_ID','Cell_ID'])\n",
    "# fig.update_layout(\n",
    "#     yaxis_title='Mean intensity per pixel',\n",
    "#     xaxis_title='Area of cell in um^2',\n",
    "#     title=dict(\n",
    "#         text=probe2_name+' intensity versus nucleus size',\n",
    "#         x=0.5,\n",
    "#         y=0.95,\n",
    "#         xanchor=\"center\",\n",
    "#         yanchor=\"top\",\n",
    "#         ),\n",
    "# )\n",
    "# pio.write_image(fig, root_path+output_path+'area_vs_intensity '+probe2_name+'.png',format='png')\n",
    "# # fig.show()"
   ]
  },
  {
   "attachments": {},
   "cell_type": "markdown",
   "metadata": {},
   "source": [
    "Store the masks images in the disk."
   ]
  },
  {
   "cell_type": "code",
   "execution_count": null,
   "metadata": {},
   "outputs": [],
   "source": [
    "for fov in range(start_fov,start_fov+n_fov):\n",
    "    # current field of view (or image)\n",
    "    img = imgs_list[fov-start_fov]\n",
    "\n",
    "    # tifffile.imwrite(root_path+output_path+'labels_stardist f'+ str(fov+1)+'.tif',\n",
    "    #                  img.image['labels'],dtype=np.uint8)\n",
    "    \n",
    "    # tifffile.imwrite(root_path+output_path+'labels_boundary_filtered f'+ str(fov+1)+'.tif',\n",
    "    #                  img.image['boundary_filtered_labels'],dtype=np.uint8)\n",
    "    \n",
    "    # save the segmented cells labels as 8-bit image\n",
    "    tifffile.imwrite(root_path+output_path+'labels_area_filtered f'+ str(fov+1)+'.tif',\n",
    "                     img.image['area_filtered_labels'],dtype=np.uint8)\n",
    "    \n",
    "    # save the background mask as binary image\n",
    "    tifffile.imwrite(root_path+output_path+'labels_background f'+ str(fov+1)+'.tif',\n",
    "                     img.image['background_label'],dtype=bool)"
   ]
  },
  {
   "attachments": {},
   "cell_type": "markdown",
   "metadata": {},
   "source": [
    "View images and masks in napari."
   ]
  },
  {
   "cell_type": "code",
   "execution_count": null,
   "metadata": {},
   "outputs": [],
   "source": [
    "# fov_to_visualize = 2\n",
    "# # to print list of names of available images\n",
    "# imgs_list[fov_to_visualize-1].show_image_names()\n",
    "\n",
    "\n",
    "# # display images in napari\n",
    "# viewer1 = imgs_list[fov_to_visualize-1].view_on_napari(return_viewer=True)\n",
    "\n",
    "# # the last field of view\n",
    "# # img.view_on_napari()\n"
   ]
  },
  {
   "attachments": {},
   "cell_type": "markdown",
   "metadata": {},
   "source": [
    "Save the `'imgs_list'` as pickle file."
   ]
  },
  {
   "cell_type": "code",
   "execution_count": null,
   "metadata": {},
   "outputs": [],
   "source": [
    "# results = shelve.open(root_path+output_path+'results', writeback=True)\n",
    "# results['imgs_list'] = imgs_list\n",
    "# results.sync()\n",
    "# results.close()"
   ]
  },
  {
   "attachments": {},
   "cell_type": "markdown",
   "metadata": {},
   "source": [
    "Open the saved `results` and visualize the images, masks, and the background."
   ]
  },
  {
   "cell_type": "code",
   "execution_count": null,
   "metadata": {},
   "outputs": [],
   "source": [
    "# with shelve.open('E:/Lab/Data/H2B + PolII/Python output/Intensity measurement in PBS/230318 V6.5 P14 D3/results') as results_new:\n",
    "#     imgs_list_new = results_new['imgs_list']\n"
   ]
  },
  {
   "cell_type": "code",
   "execution_count": null,
   "metadata": {},
   "outputs": [],
   "source": [
    "# fov_to_visualize = 1\n",
    "\n",
    "# # display images in napari\n",
    "# imgs_list_new[fov_to_visualize-1].view_on_napari()"
   ]
  }
 ],
 "metadata": {
  "kernelspec": {
   "display_name": "Python 3",
   "language": "python",
   "name": "python3"
  },
  "language_info": {
   "codemirror_mode": {
    "name": "ipython",
    "version": 3
   },
   "file_extension": ".py",
   "mimetype": "text/x-python",
   "name": "python",
   "nbconvert_exporter": "python",
   "pygments_lexer": "ipython3",
   "version": "3.10.11"
  },
  "orig_nbformat": 4,
  "vscode": {
   "interpreter": {
    "hash": "e7f35bad49fc684f04c47e4f574c37bc56f05d706e5c4f9185fc5e04a34c2077"
   }
  }
 },
 "nbformat": 4,
 "nbformat_minor": 2
}
