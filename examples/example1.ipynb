{
 "cells": [
  {
   "attachments": {},
   "cell_type": "markdown",
   "metadata": {},
   "source": [
    "# Import the PyNucSeg library\n",
    "This step may take a while as it will be importing may other library within it."
   ]
  },
  {
   "cell_type": "code",
   "execution_count": 1,
   "metadata": {},
   "outputs": [
    {
     "name": "stdout",
     "output_type": "stream",
     "text": [
      "Found model '2D_versatile_fluo' for 'StarDist2D'.\n",
      "Loading network weights from 'weights_best.h5'.\n",
      "Loading thresholds from 'thresholds.json'.\n",
      "Using default values: prob_thresh=0.479071, nms_thresh=0.3.\n"
     ]
    }
   ],
   "source": [
    "# import pynucseg  \n",
    "# or \n",
    "from pynucseg import ReferenceImage"
   ]
  },
  {
   "attachments": {},
   "cell_type": "markdown",
   "metadata": {},
   "source": [
    "## Set input file path\n",
    "\n",
    "The input file path is divided into two chunks, `root_path` and `file_path` for convention.\n",
    "During loading the image file, it will look at the directory `root_path`+`file_path`. \\\n",
    "\\\n",
    "For example, say the required image files are located at ``'E:/test-data/nuclear-segmentation/'``, then we can parse it in `root_path` and `file_path` in any of the following way.\n",
    "- `root_path`= `''`, and `file_path` = `'E:/test-data/nuclear-segmentation/'` # root_path empty\n",
    "- `root_path`= `'E:/test-data/nuclear-segmentation/'`, and `file_path` = `''` # file_path empty\n",
    "- `root_path`= `'E:/'`, and `file_path` = `'test-data/nuclear-segmentation/'` # splitting full_path\n",
    "\n"
   ]
  },
  {
   "attachments": {},
   "cell_type": "markdown",
   "metadata": {},
   "source": [
    "## Construct ReferenceImage object.\n",
    "Here it is assumed that files are named as:\n",
    "`field_of_view` + `probe1_name` + '.tif', `field_of_view` + `probe2_name` + '.tif', and `field_of_view` + `transmitted_name` + '.tif'.\\\n",
    "For example, `'fov1 H3K27ac.tif'`, `'fov1 PolII.tif'`, and `'fov1 t.tif'`. Here, `probe1_name` is 'H3K27ac' and `probe2_name` is 'PolII'."
   ]
  },
  {
   "cell_type": "code",
   "execution_count": 2,
   "metadata": {},
   "outputs": [
    {
     "name": "stdout",
     "output_type": "stream",
     "text": [
      "ReferenceImage created with: ['t', 'H3K27ac', 'PolII']\n",
      "ReferenceImage(f1)\n"
     ]
    }
   ],
   "source": [
    "my_image = ReferenceImage(\n",
    "    root_path='',\n",
    "    file_path='E:/pckgs/test_pckgs/test-data/nuclear-segmentation/',\n",
    "    field_of_view='f1',  \n",
    "    probe1_name='H3K27ac',\n",
    "    probe2_name='PolII',\n",
    "    transmitted_name='t',\n",
    ")\n",
    "\n",
    "print(my_image)"
   ]
  },
  {
   "attachments": {},
   "cell_type": "markdown",
   "metadata": {},
   "source": [
    "To confirm the available images names."
   ]
  },
  {
   "cell_type": "code",
   "execution_count": null,
   "metadata": {},
   "outputs": [],
   "source": [
    "my_image.show_image_names()"
   ]
  },
  {
   "attachments": {},
   "cell_type": "markdown",
   "metadata": {},
   "source": [
    "Visualize the loaded image on napari."
   ]
  },
  {
   "cell_type": "code",
   "execution_count": null,
   "metadata": {},
   "outputs": [],
   "source": [
    "# my_image.view_on_napari()"
   ]
  },
  {
   "attachments": {},
   "cell_type": "markdown",
   "metadata": {},
   "source": [
    "Perform median filtering and store the filtered image inplace. Default `image_name` is `probe1_name` and the default smoothing kernel size,`sigma`, is 8 pixels. If `return_image` parameter is set True, it spits out the image as numpy ndarray."
   ]
  },
  {
   "cell_type": "code",
   "execution_count": null,
   "metadata": {},
   "outputs": [],
   "source": [
    "my_image.smoothing(image_name='H3K27ac',sigma=8,return_image=False)"
   ]
  },
  {
   "attachments": {},
   "cell_type": "markdown",
   "metadata": {},
   "source": [
    "Now, check the list of images contained in `my_image` instance of the `ReferenceImage`. MedianFiltered image should be added in addition to initially loaded images."
   ]
  },
  {
   "cell_type": "code",
   "execution_count": null,
   "metadata": {},
   "outputs": [],
   "source": [
    "my_image.show_image_names()  # print the list of available image\n",
    "# my_image.view_on_napari()  # show all the available images in a single napari.Viewer"
   ]
  },
  {
   "attachments": {},
   "cell_type": "markdown",
   "metadata": {},
   "source": [
    "Run the stardist2D segmentation on the loaded image."
   ]
  },
  {
   "cell_type": "code",
   "execution_count": null,
   "metadata": {},
   "outputs": [],
   "source": [
    "# Run segmentation with the default parameters\n",
    "my_image.run_segmentaion2d() \n",
    "\n",
    "# or, adjust prob_theresh, nms_thresh, scalets, etc as needed.\n",
    "my_image.run_segmentaion2d(\n",
    "            prob_thresh=0.5,\n",
    "            nms_threhold=0.01,\n",
    "            scale=0.2)  # these values are the default values"
   ]
  },
  {
   "attachments": {},
   "cell_type": "markdown",
   "metadata": {},
   "source": [
    "Now, get the values for area of each identified nucleus. The boundary filteratio, to remove the nucleus located at boundary of the field of view, and background subtraction, is done by default. If the argument `return_results` is set `True`, it throws the data in output, else, the values will be stored inplace."
   ]
  },
  {
   "cell_type": "code",
   "execution_count": null,
   "metadata": {},
   "outputs": [],
   "source": [
    "my_image.get_cell_info(\n",
    "    probe_names=['H3K27ac', 'PolII'],\n",
    "    return_results=False)   "
   ]
  },
  {
   "attachments": {},
   "cell_type": "markdown",
   "metadata": {},
   "source": [
    "Untill now, the label image for nuclei, backgound_mask, etc will be added.\n",
    "Confirm these by printing the available image list."
   ]
  },
  {
   "cell_type": "code",
   "execution_count": null,
   "metadata": {},
   "outputs": [],
   "source": [
    "my_image.show_image_names()  # print the list of available image"
   ]
  },
  {
   "attachments": {},
   "cell_type": "markdown",
   "metadata": {},
   "source": [
    "Visualize all the images on napari.Viewer."
   ]
  },
  {
   "cell_type": "code",
   "execution_count": null,
   "metadata": {},
   "outputs": [],
   "source": [
    "my_image.view_on_napari()"
   ]
  }
 ],
 "metadata": {
  "kernelspec": {
   "display_name": "Python 3",
   "language": "python",
   "name": "python3"
  },
  "language_info": {
   "codemirror_mode": {
    "name": "ipython",
    "version": 3
   },
   "file_extension": ".py",
   "mimetype": "text/x-python",
   "name": "python",
   "nbconvert_exporter": "python",
   "pygments_lexer": "ipython3",
   "version": "3.10.9"
  },
  "orig_nbformat": 4,
  "vscode": {
   "interpreter": {
    "hash": "e7f35bad49fc684f04c47e4f574c37bc56f05d706e5c4f9185fc5e04a34c2077"
   }
  }
 },
 "nbformat": 4,
 "nbformat_minor": 2
}
