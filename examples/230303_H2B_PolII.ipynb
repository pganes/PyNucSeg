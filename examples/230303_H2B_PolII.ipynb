{
 "cells": [
  {
   "attachments": {},
   "cell_type": "markdown",
   "metadata": {},
   "source": [
    "Import the required libraries."
   ]
  },
  {
   "cell_type": "code",
   "execution_count": 1,
   "metadata": {},
   "outputs": [
    {
     "name": "stdout",
     "output_type": "stream",
     "text": [
      "Found model '2D_versatile_fluo' for 'StarDist2D'.\n",
      "Loading network weights from 'weights_best.h5'.\n",
      "Loading thresholds from 'thresholds.json'.\n",
      "Using default values: prob_thresh=0.479071, nms_thresh=0.3.\n"
     ]
    }
   ],
   "source": [
    "from pynucseg import ReferenceImage # or import pynucseg\n",
    "import numpy as np  # !pip install numpy\n",
    "import pandas as pd  # \"!pip install pandas\"\n",
    "import matplotlib.pyplot as plt  # !pip install matplotlib\n",
    "import plotly.express as px # !pip install plotly nbformat\n",
    "import plotly.io as pio # kaleido is required. TO install >>> !pip install -U kaleido\n",
    "import seaborn as sns\n",
    "\n",
    "import os\n",
    "import shelve"
   ]
  },
  {
   "attachments": {},
   "cell_type": "markdown",
   "metadata": {},
   "source": [
    "Define file path and names."
   ]
  },
  {
   "cell_type": "code",
   "execution_count": 2,
   "metadata": {},
   "outputs": [],
   "source": [
    "root_path = 'E:/Lab/'  # 'D:/User Folders/Ganesh/' \n",
    "# file_path = 'H2B + PolII/230301 V6.5 P3/Intensity measurement in PBS/'\n",
    "file_path = 'Data/H2B + PolII/SRX output/Intensity measurement in PBS/230306 V6.5 P6 Dish2/' # 230301 V6.5 P3/\n",
    "output_path = \"Python output\".join(file_path.split('SRX output'))\n",
    "n_fov = 4  # number of filed of views\n",
    "n_channel = 2  # number of channels with fluorescent nucleus \n",
    "field_of_view='f' # the very first prefix of the file name\n",
    "probe1_name = 'H2B'\n",
    "probe2_name = 'PolII'\n",
    "transmitted_name ='t'\n",
    "# imaging_set can be in any format/type\n",
    "imaging_setup = {'Laser': ['640nm', ['488nm']],\n",
    "                 'Power': [\"0.1'%' of 60%\",\"0.1'%' of 60%\" ],\n",
    "                 'Exposure': ['100ms', '100ms'],\n",
    "                 }\n"
   ]
  },
  {
   "attachments": {},
   "cell_type": "markdown",
   "metadata": {},
   "source": [
    "Check if the output folder exist, if not create."
   ]
  },
  {
   "cell_type": "code",
   "execution_count": 3,
   "metadata": {},
   "outputs": [
    {
     "name": "stdout",
     "output_type": "stream",
     "text": [
      "Data/H2B + PolII/Python output/Intensity measurement in PBS/230306 V6.5 P6 Dish2/\n"
     ]
    }
   ],
   "source": [
    "print(output_path)\n",
    "# check_folder = os.path.isdir(root_path+output_path)  # True if outputPath exists\n",
    "# If folder doesn't exist, then create it.\n",
    "if not os.path.isdir(root_path+output_path):\n",
    "    os.makedirs(root_path+output_path)\n",
    "    print(\"created folder : \", root_path+output_path)\n"
   ]
  },
  {
   "attachments": {},
   "cell_type": "markdown",
   "metadata": {},
   "source": [
    "Construct ReferenceImage objects and store images, perform smoothing and intensity computations inplace."
   ]
  },
  {
   "cell_type": "code",
   "execution_count": 4,
   "metadata": {},
   "outputs": [
    {
     "name": "stdout",
     "output_type": "stream",
     "text": [
      "ReferenceImage created with: ['t', 'H2B', 'PolII']\n",
      "1/1 [==============================] - 0s 278ms/step\n",
      "ReferenceImage created with: ['t', 'H2B', 'PolII']\n",
      "1/1 [==============================] - 0s 66ms/step\n",
      "ReferenceImage created with: ['t', 'H2B', 'PolII']\n",
      "1/1 [==============================] - 0s 65ms/step\n",
      "ReferenceImage created with: ['t', 'H2B', 'PolII']\n",
      "1/1 [==============================] - 0s 69ms/step\n"
     ]
    }
   ],
   "source": [
    "# images = []\n",
    "for fov in range(n_fov):\n",
    "    img = ReferenceImage(root_path=root_path,\n",
    "                   file_path=file_path,\n",
    "                   field_of_view=field_of_view+str(fov+1),\n",
    "                   probe1_name=probe1_name,\n",
    "                   probe2_name=probe2_name,\n",
    "                   transmitted_name='t',\n",
    "                   imaging_setup=imaging_setup,\n",
    "                   )\n",
    "    # median filtering to smooth out\n",
    "    img.smoothing(image_name=probe2_name,sigma=8)\n",
    "\n",
    "    # run segmentation\n",
    "    img.run_segmentaion2d(prob_thresh=0.5,\n",
    "                          nms_threhold=0.01,\n",
    "                          scale=0.2,  # scale down the image prior segmentation,\n",
    "                          )\n",
    "\n",
    "    # get measuremtns, save result inplace, do not spit out\n",
    "    # default area per pixel is 0.01 um^2 assuming 1 pixel=100nm\n",
    "    img.get_cell_info(probe_names=[probe1_name,probe2_name]) "
   ]
  },
  {
   "attachments": {},
   "cell_type": "markdown",
   "metadata": {},
   "source": [
    "Extract result to DataFrame, and save to disk as csv."
   ]
  },
  {
   "cell_type": "code",
   "execution_count": 5,
   "metadata": {},
   "outputs": [],
   "source": [
    "imgs_list = ReferenceImage.all_fovs\n",
    "area_n_ADU = np.empty((0,n_channel+3))\n",
    "for fov in range(n_fov):\n",
    "    # get [area, mean_intensity_per_pixel) per field of view\n",
    "    area_n_ADU_per_cell = imgs_list[fov].area_n_ADU\n",
    "    # add FOV_ID and Cell_ID column \n",
    "    area_n_ADU_per_cell_w_fovID = np.hstack(\n",
    "        (area_n_ADU_per_cell,\n",
    "         np.repeat(int(fov+1),area_n_ADU_per_cell.shape[0]).reshape(-1,1),\n",
    "         np.arange(1,area_n_ADU_per_cell.shape[0]+1).reshape(-1,1),\n",
    "         ))\n",
    "    # concatenate  the values in the main array\n",
    "    area_n_ADU = np.vstack((area_n_ADU,area_n_ADU_per_cell_w_fovID))\n",
    "\n",
    "# delete temporaty files from workspace\n",
    "del area_n_ADU_per_cell, area_n_ADU_per_cell_w_fovID\n",
    "\n",
    "# construct pandas DataFrame \n",
    "intensity_df = pd.DataFrame(data=area_n_ADU,columns=['Area_um2',probe1_name,probe2_name,'FOV_ID','Cell_ID'])\n",
    "intensity_df['FOV_ID'] = intensity_df['FOV_ID'].astype(int)  # int or str. str make FOV_ID categorical\n",
    "intensity_df['Cell_ID'] = intensity_df['Cell_ID'].astype(int)  # int or str. str make FOV_ID categorical\n",
    "intensity_df['FOV_ID'] = intensity_df['FOV_ID'].astype(str)  # int or str. str make FOV_ID categorical\n",
    "intensity_df['Cell_ID'] = intensity_df['Cell_ID'].astype(str)  # int or str. str make FOV_ID categorical\n",
    "\n",
    "\n",
    "# filter out the nucleus that has very small or big area, potential false positive\n",
    "min_area = 75 # um^2  ~ circle of diameter 9.7 um\n",
    "max_area = 175 # um^2  ~ circle of diameter 14.9 um\n",
    "\n",
    "# filter out the DataFrame, i.e. consider only the nucles with area: min_area <= area <= max_area \n",
    "filtered_intensity_df = intensity_df.loc[(intensity_df['Area_um2'] >= min_area) & (intensity_df['Area_um2'] <= max_area)]\n",
    "# save DataFrame to disk as csv\n",
    "filtered_intensity_df.to_csv(root_path+output_path+'mean_intensity_per_pxl.csv',index=None)\n"
   ]
  },
  {
   "attachments": {},
   "cell_type": "markdown",
   "metadata": {},
   "source": [
    "Violins for mean intensities per nucleus per probe. "
   ]
  },
  {
   "cell_type": "code",
   "execution_count": 6,
   "metadata": {},
   "outputs": [
    {
     "data": {
      "image/png": "[encoded data removed]",
      "text/plain": [
       "<Figure size 640x480 with 1 Axes>"
      ]
     },
     "metadata": {},
     "output_type": "display_data"
    }
   ],
   "source": [
    "title = 'Intensity comparision on two color channels'\n",
    "fig, ax = plt.subplots()\n",
    "ax = sns.violinplot(data=filtered_intensity_df[[probe1_name,probe2_name]], inner=None, linewidth=1, saturation=0.5,alpha=0)\n",
    "\n",
    "# change alpha for edges and faces\n",
    "ax.collections[0].set_edgecolor((1,0,1, 1))\n",
    "ax.collections[1].set_edgecolor((0,1, 1,1))\n",
    "ax.collections[0].set_facecolor((1,0,1, 0.05))\n",
    "ax.collections[1].set_facecolor((0,1,1, 0.05))\n",
    "\n",
    "sns.boxplot(data=filtered_intensity_df[[probe1_name,probe2_name]], saturation=0.5, width=0.2,\n",
    "            palette='rocket', boxprops={'zorder': 2,'facecolor': 'None'},  ax=ax,\n",
    "            showfliers=False)\n",
    "\n",
    "sns.stripplot(data=filtered_intensity_df[[probe1_name,probe2_name]], jitter=True)\n",
    "\n",
    "means = filtered_intensity_df[[probe1_name,probe2_name]].mean()\n",
    "ax.plot([0,1],means,'sg')\n",
    "# Add text to the plot\n",
    "plt.text(0+0.1, means[probe1_name], f\"$\\mu=${round(means[probe1_name])}\")\n",
    "plt.text(1+0.1, means[probe2_name], f\"$\\mu=${round(means[probe2_name])}\")\n",
    "\n",
    "# adjust axis limits\n",
    "# ax.set_ylim(-100,1000)\n",
    "ax.set_xlim(-0.5,1.5)\n",
    "ax.set_ylabel('Mean intensity per pixel')\n",
    "ax.set_title(title)\n",
    "# show plot\n",
    "plt.savefig(root_path+output_path+ title+'.png')\n",
    "plt.show();"
   ]
  },
  {
   "attachments": {},
   "cell_type": "markdown",
   "metadata": {},
   "source": [
    "Area versus intensity per probe."
   ]
  },
  {
   "cell_type": "code",
   "execution_count": 7,
   "metadata": {},
   "outputs": [
    {
     "data": {
      "application/vnd.plotly.v1+json": {
       "config": {
        "plotlyServerURL": "https://plot.ly"
       },
       "data": [
        {
         "customdata": [
          [
           "1",
           "1"
          ],
          [
           "1",
           "2"
          ],
          [
           "1",
           "3"
          ],
          [
           "1",
           "4"
          ],
          [
           "1",
           "5"
          ],
          [
           "1",
           "6"
          ],
          [
           "1",
           "7"
          ],
          [
           "1",
           "8"
          ],
          [
           "1",
           "10"
          ],
          [
           "1",
           "11"
          ],
          [
           "1",
           "13"
          ],
          [
           "1",
           "14"
          ],
          [
           "1",
           "15"
          ],
          [
           "1",
           "16"
          ],
          [
           "1",
           "18"
          ],
          [
           "1",
           "19"
          ],
          [
           "1",
           "20"
          ],
          [
           "1",
           "21"
          ],
          [
           "1",
           "22"
          ],
          [
           "1",
           "23"
          ],
          [
           "1",
           "25"
          ],
          [
           "1",
           "26"
          ],
          [
           "1",
           "27"
          ],
          [
           "1",
           "28"
          ],
          [
           "1",
           "29"
          ],
          [
           "1",
           "31"
          ],
          [
           "1",
           "33"
          ],
          [
           "1",
           "34"
          ],
          [
           "1",
           "35"
          ],
          [
           "1",
           "36"
          ],
          [
           "1",
           "37"
          ],
          [
           "1",
           "38"
          ],
          [
           "1",
           "39"
          ],
          [
           "1",
           "40"
          ],
          [
           "1",
           "41"
          ],
          [
           "1",
           "42"
          ],
          [
           "1",
           "43"
          ],
          [
           "1",
           "44"
          ],
          [
           "1",
           "45"
          ],
          [
           "1",
           "46"
          ],
          [
           "1",
           "47"
          ],
          [
           "1",
           "49"
          ],
          [
           "1",
           "50"
          ],
          [
           "1",
           "51"
          ],
          [
           "1",
           "52"
          ],
          [
           "1",
           "54"
          ],
          [
           "1",
           "56"
          ],
          [
           "1",
           "57"
          ],
          [
           "1",
           "58"
          ],
          [
           "1",
           "59"
          ],
          [
           "1",
           "62"
          ],
          [
           "1",
           "63"
          ],
          [
           "1",
           "65"
          ]
         ],
         "hovertemplate": "FOV_ID=%{customdata[0]}<br>Area_um2=%{x}<br>value=%{y}<br>Cell_ID=%{customdata[1]}<extra></extra>",
         "legendgroup": "1",
         "marker": {
          "color": "#636efa",
          "symbol": "circle"
         },
         "mode": "markers",
         "name": "1",
         "orientation": "v",
         "showlegend": true,
         "type": "scatter",
         "x": [
          102.36,
          85.74,
          97.23,
          118.29,
          79.53,
          156.4,
          94.93,
          108.13,
          92.61,
          82.2,
          119.67,
          103.05,
          99.66,
          104.48,
          95.13,
          87.65,
          79.41,
          78.54,
          119.92,
          81.61,
          97.16,
          97.82000000000001,
          84.94,
          104.2,
          106.77,
          81.85000000000001,
          79.93,
          139.89000000000001,
          93.92,
          86.25,
          96.97,
          109.72,
          86.71000000000001,
          115.09,
          101.91,
          124.04,
          139.56,
          94.38,
          113.57000000000001,
          84.5,
          114.13,
          90.53,
          116.66,
          79.72,
          91.45,
          90.95,
          102.93,
          126.9,
          99.07000000000001,
          112.03,
          97.72,
          93.74,
          110.2
         ],
         "xaxis": "x",
         "y": [
          218.38154396790134,
          385.9798925700031,
          393.42455564336325,
          449.9793568865961,
          264.93418703106744,
          762.3122653624278,
          221.73883554619232,
          309.552079100178,
          657.6627147830518,
          364.47390825824056,
          397.82693455500925,
          311.4430898262555,
          532.6752743628504,
          174.9371260291128,
          458.14112492141606,
          338.8518955251157,
          374.98571164030005,
          504.09719882197766,
          502.66449468325385,
          508.2194396578025,
          323.1710415893702,
          292.831592042101,
          350.8443108953962,
          442.1737653550645,
          372.214076393717,
          483.2992002067488,
          540.5237208223364,
          547.4486675712149,
          293.9530877742754,
          790.629284117756,
          313.8471354358838,
          423.97521762967307,
          175.60103947084878,
          543.4656116094104,
          628.0984235203832,
          526.9966772261037,
          493.1928212967161,
          534.1014450214111,
          252.4419637164968,
          451.1510904808467,
          306.52810807264103,
          459.4636191336128,
          520.0178300172734,
          442.65589026826837,
          380.2260491513137,
          429.6633128801753,
          476.2879614628492,
          723.6427020092831,
          429.7476638200015,
          288.9436636874107,
          475.037224272116,
          399.3074269673895,
          278.05964619987293
         ],
         "yaxis": "y"
        },
        {
         "customdata": [
          [
           "2",
           "1"
          ],
          [
           "2",
           "2"
          ],
          [
           "2",
           "3"
          ],
          [
           "2",
           "4"
          ],
          [
           "2",
           "5"
          ],
          [
           "2",
           "6"
          ],
          [
           "2",
           "8"
          ],
          [
           "2",
           "9"
          ],
          [
           "2",
           "11"
          ],
          [
           "2",
           "12"
          ],
          [
           "2",
           "13"
          ],
          [
           "2",
           "14"
          ],
          [
           "2",
           "15"
          ],
          [
           "2",
           "16"
          ],
          [
           "2",
           "17"
          ],
          [
           "2",
           "18"
          ],
          [
           "2",
           "19"
          ],
          [
           "2",
           "20"
          ],
          [
           "2",
           "21"
          ],
          [
           "2",
           "22"
          ],
          [
           "2",
           "23"
          ],
          [
           "2",
           "24"
          ],
          [
           "2",
           "25"
          ],
          [
           "2",
           "26"
          ],
          [
           "2",
           "28"
          ],
          [
           "2",
           "30"
          ],
          [
           "2",
           "31"
          ],
          [
           "2",
           "32"
          ],
          [
           "2",
           "33"
          ],
          [
           "2",
           "34"
          ],
          [
           "2",
           "35"
          ],
          [
           "2",
           "36"
          ],
          [
           "2",
           "37"
          ],
          [
           "2",
           "38"
          ],
          [
           "2",
           "39"
          ],
          [
           "2",
           "40"
          ],
          [
           "2",
           "41"
          ],
          [
           "2",
           "42"
          ],
          [
           "2",
           "45"
          ],
          [
           "2",
           "46"
          ],
          [
           "2",
           "47"
          ],
          [
           "2",
           "48"
          ]
         ],
         "hovertemplate": "FOV_ID=%{customdata[0]}<br>Area_um2=%{x}<br>value=%{y}<br>Cell_ID=%{customdata[1]}<extra></extra>",
         "legendgroup": "2",
         "marker": {
          "color": "#EF553B",
          "symbol": "circle"
         },
         "mode": "markers",
         "name": "2",
         "orientation": "v",
         "showlegend": true,
         "type": "scatter",
         "x": [
          98.31,
          106.66,
          89.11,
          82.61,
          107.48,
          79.03,
          144.91,
          91.18,
          83.31,
          98.26,
          99.45,
          84.91,
          83.39,
          113.89,
          130.86,
          85.39,
          132.09,
          79.09,
          85.43,
          134.3,
          111.09,
          93.03,
          132.53,
          85.07000000000001,
          93.15,
          155.07,
          87.53,
          99.48,
          77.11,
          98.26,
          98.64,
          85.01,
          83.82000000000001,
          85.51,
          126.88000000000001,
          92.48,
          157.43,
          113.5,
          118.14,
          93.63,
          91.59,
          81.82000000000001
         ],
         "xaxis": "x",
         "y": [
          495.0841082311362,
          471.0316194360152,
          490.22460172732093,
          651.6342261167574,
          519.4319382896801,
          570.8509540059658,
          641.4670363936405,
          689.2581926352807,
          425.0266729731882,
          519.7861597634198,
          727.1745284903802,
          414.70135466465314,
          737.2605962388211,
          908.2884401480569,
          581.7111684558574,
          460.83119796614955,
          523.6665667471243,
          536.3455258731913,
          518.7172011214911,
          588.9415509111627,
          807.7171268781915,
          699.4998926465769,
          698.7204125398173,
          478.5781123133141,
          480.3741117053086,
          785.2950964312342,
          803.098441785467,
          546.7150706823272,
          732.8099470376894,
          485.4104219250319,
          660.2572058435599,
          491.31964790347496,
          638.5922747346665,
          460.4461406475028,
          709.1181904549558,
          712.5244179559704,
          1024.659314964626,
          748.8893532866716,
          1227.3883807826091,
          501.4088697543876,
          832.4723561922656,
          829.9644291650638
         ],
         "yaxis": "y"
        },
        {
         "customdata": [
          [
           "3",
           "1"
          ],
          [
           "3",
           "2"
          ],
          [
           "3",
           "3"
          ],
          [
           "3",
           "4"
          ],
          [
           "3",
           "5"
          ],
          [
           "3",
           "6"
          ],
          [
           "3",
           "7"
          ],
          [
           "3",
           "8"
          ],
          [
           "3",
           "9"
          ],
          [
           "3",
           "10"
          ],
          [
           "3",
           "11"
          ],
          [
           "3",
           "12"
          ],
          [
           "3",
           "13"
          ],
          [
           "3",
           "16"
          ],
          [
           "3",
           "17"
          ],
          [
           "3",
           "19"
          ],
          [
           "3",
           "20"
          ],
          [
           "3",
           "21"
          ],
          [
           "3",
           "22"
          ],
          [
           "3",
           "23"
          ],
          [
           "3",
           "24"
          ],
          [
           "3",
           "25"
          ],
          [
           "3",
           "26"
          ],
          [
           "3",
           "27"
          ],
          [
           "3",
           "29"
          ],
          [
           "3",
           "31"
          ],
          [
           "3",
           "33"
          ],
          [
           "3",
           "34"
          ],
          [
           "3",
           "36"
          ]
         ],
         "hovertemplate": "FOV_ID=%{customdata[0]}<br>Area_um2=%{x}<br>value=%{y}<br>Cell_ID=%{customdata[1]}<extra></extra>",
         "legendgroup": "3",
         "marker": {
          "color": "#00cc96",
          "symbol": "circle"
         },
         "mode": "markers",
         "name": "3",
         "orientation": "v",
         "showlegend": true,
         "type": "scatter",
         "x": [
          136.11,
          98.43,
          121.47,
          79.86,
          76.11,
          85.25,
          94.56,
          121.02,
          119.25,
          157.68,
          96.14,
          127,
          98.59,
          92.99,
          116.64,
          124.29,
          114.52,
          98.94,
          92.27,
          85.45,
          76.99,
          79.62,
          114.51,
          76.76,
          109.74000000000001,
          101.64,
          84.04,
          81.8,
          97.54
         ],
         "xaxis": "x",
         "y": [
          954.7874081084118,
          508.4245637329602,
          806.3639746227292,
          695.6201935355872,
          811.8333152668471,
          613.6265380255414,
          723.6903423906267,
          734.4170962958838,
          736.2186664921921,
          960.6585825390222,
          545.7423492417114,
          931.1148376075952,
          598.8851926451204,
          942.723673838398,
          791.196013012367,
          847.94792839793,
          878.7861532805442,
          480.3809663677281,
          904.9234683463804,
          722.1689764187985,
          728.2855041631249,
          904.710834636791,
          837.6890572026242,
          809.4280262762342,
          786.5415791972365,
          810.102743354914,
          859.7786295027182,
          686.6483782194197,
          894.4662306157533
         ],
         "yaxis": "y"
        },
        {
         "customdata": [
          [
           "4",
           "1"
          ],
          [
           "4",
           "3"
          ],
          [
           "4",
           "4"
          ],
          [
           "4",
           "5"
          ],
          [
           "4",
           "7"
          ],
          [
           "4",
           "9"
          ],
          [
           "4",
           "10"
          ],
          [
           "4",
           "15"
          ],
          [
           "4",
           "16"
          ],
          [
           "4",
           "18"
          ],
          [
           "4",
           "19"
          ],
          [
           "4",
           "20"
          ],
          [
           "4",
           "21"
          ],
          [
           "4",
           "22"
          ],
          [
           "4",
           "23"
          ],
          [
           "4",
           "24"
          ],
          [
           "4",
           "25"
          ],
          [
           "4",
           "27"
          ],
          [
           "4",
           "28"
          ],
          [
           "4",
           "30"
          ],
          [
           "4",
           "31"
          ],
          [
           "4",
           "32"
          ],
          [
           "4",
           "33"
          ]
         ],
         "hovertemplate": "FOV_ID=%{customdata[0]}<br>Area_um2=%{x}<br>value=%{y}<br>Cell_ID=%{customdata[1]}<extra></extra>",
         "legendgroup": "4",
         "marker": {
          "color": "#ab63fa",
          "symbol": "circle"
         },
         "mode": "markers",
         "name": "4",
         "orientation": "v",
         "showlegend": true,
         "type": "scatter",
         "x": [
          115.19,
          125.3,
          82.69,
          89.25,
          131.02,
          81.61,
          114.79,
          148.70000000000002,
          170.91,
          112.34,
          86.86,
          106.24000000000001,
          77.53,
          123.66,
          78.61,
          84.76,
          105.09,
          115.48,
          90.26,
          132.29,
          88.46000000000001,
          112.88,
          174.83
         ],
         "xaxis": "x",
         "y": [
          827.3704120374638,
          762.346941491178,
          499.34494532418466,
          797.2397665541642,
          740.6197706760998,
          562.9646038533774,
          786.8804410973502,
          574.4315374387116,
          865.8832688348376,
          801.9640846381718,
          562.7270940479062,
          745.4799355283803,
          715.419059001183,
          391.4180240968707,
          588.055105619443,
          534.0702897780833,
          730.9913555483116,
          737.2431928571411,
          443.1834343647406,
          712.3252908659374,
          470.11613277327217,
          380.1148686431925,
          723.1038516333712
         ],
         "yaxis": "y"
        }
       ],
       "layout": {
        "legend": {
         "title": {
          "text": "FOV_ID"
         },
         "tracegroupgap": 0
        },
        "margin": {
         "t": 60
        },
        "template": {
         "data": {
          "bar": [
           {
            "error_x": {
             "color": "#2a3f5f"
            },
            "error_y": {
             "color": "#2a3f5f"
            },
            "marker": {
             "line": {
              "color": "#E5ECF6",
              "width": 0.5
             },
             "pattern": {
              "fillmode": "overlay",
              "size": 10,
              "solidity": 0.2
             }
            },
            "type": "bar"
           }
          ],
          "barpolar": [
           {
            "marker": {
             "line": {
              "color": "#E5ECF6",
              "width": 0.5
             },
             "pattern": {
              "fillmode": "overlay",
              "size": 10,
              "solidity": 0.2
             }
            },
            "type": "barpolar"
           }
          ],
          "carpet": [
           {
            "aaxis": {
             "endlinecolor": "#2a3f5f",
             "gridcolor": "white",
             "linecolor": "white",
             "minorgridcolor": "white",
             "startlinecolor": "#2a3f5f"
            },
            "baxis": {
             "endlinecolor": "#2a3f5f",
             "gridcolor": "white",
             "linecolor": "white",
             "minorgridcolor": "white",
             "startlinecolor": "#2a3f5f"
            },
            "type": "carpet"
           }
          ],
          "choropleth": [
           {
            "colorbar": {
             "outlinewidth": 0,
             "ticks": ""
            },
            "type": "choropleth"
           }
          ],
          "contour": [
           {
            "colorbar": {
             "outlinewidth": 0,
             "ticks": ""
            },
            "colorscale": [
             [
              0,
              "#0d0887"
             ],
             [
              0.1111111111111111,
              "#46039f"
             ],
             [
              0.2222222222222222,
              "#7201a8"
             ],
             [
              0.3333333333333333,
              "#9c179e"
             ],
             [
              0.4444444444444444,
              "#bd3786"
             ],
             [
              0.5555555555555556,
              "#d8576b"
             ],
             [
              0.6666666666666666,
              "#ed7953"
             ],
             [
              0.7777777777777778,
              "#fb9f3a"
             ],
             [
              0.8888888888888888,
              "#fdca26"
             ],
             [
              1,
              "#f0f921"
             ]
            ],
            "type": "contour"
           }
          ],
          "contourcarpet": [
           {
            "colorbar": {
             "outlinewidth": 0,
             "ticks": ""
            },
            "type": "contourcarpet"
           }
          ],
          "heatmap": [
           {
            "colorbar": {
             "outlinewidth": 0,
             "ticks": ""
            },
            "colorscale": [
             [
              0,
              "#0d0887"
             ],
             [
              0.1111111111111111,
              "#46039f"
             ],
             [
              0.2222222222222222,
              "#7201a8"
             ],
             [
              0.3333333333333333,
              "#9c179e"
             ],
             [
              0.4444444444444444,
              "#bd3786"
             ],
             [
              0.5555555555555556,
              "#d8576b"
             ],
             [
              0.6666666666666666,
              "#ed7953"
             ],
             [
              0.7777777777777778,
              "#fb9f3a"
             ],
             [
              0.8888888888888888,
              "#fdca26"
             ],
             [
              1,
              "#f0f921"
             ]
            ],
            "type": "heatmap"
           }
          ],
          "heatmapgl": [
           {
            "colorbar": {
             "outlinewidth": 0,
             "ticks": ""
            },
            "colorscale": [
             [
              0,
              "#0d0887"
             ],
             [
              0.1111111111111111,
              "#46039f"
             ],
             [
              0.2222222222222222,
              "#7201a8"
             ],
             [
              0.3333333333333333,
              "#9c179e"
             ],
             [
              0.4444444444444444,
              "#bd3786"
             ],
             [
              0.5555555555555556,
              "#d8576b"
             ],
             [
              0.6666666666666666,
              "#ed7953"
             ],
             [
              0.7777777777777778,
              "#fb9f3a"
             ],
             [
              0.8888888888888888,
              "#fdca26"
             ],
             [
              1,
              "#f0f921"
             ]
            ],
            "type": "heatmapgl"
           }
          ],
          "histogram": [
           {
            "marker": {
             "pattern": {
              "fillmode": "overlay",
              "size": 10,
              "solidity": 0.2
             }
            },
            "type": "histogram"
           }
          ],
          "histogram2d": [
           {
            "colorbar": {
             "outlinewidth": 0,
             "ticks": ""
            },
            "colorscale": [
             [
              0,
              "#0d0887"
             ],
             [
              0.1111111111111111,
              "#46039f"
             ],
             [
              0.2222222222222222,
              "#7201a8"
             ],
             [
              0.3333333333333333,
              "#9c179e"
             ],
             [
              0.4444444444444444,
              "#bd3786"
             ],
             [
              0.5555555555555556,
              "#d8576b"
             ],
             [
              0.6666666666666666,
              "#ed7953"
             ],
             [
              0.7777777777777778,
              "#fb9f3a"
             ],
             [
              0.8888888888888888,
              "#fdca26"
             ],
             [
              1,
              "#f0f921"
             ]
            ],
            "type": "histogram2d"
           }
          ],
          "histogram2dcontour": [
           {
            "colorbar": {
             "outlinewidth": 0,
             "ticks": ""
            },
            "colorscale": [
             [
              0,
              "#0d0887"
             ],
             [
              0.1111111111111111,
              "#46039f"
             ],
             [
              0.2222222222222222,
              "#7201a8"
             ],
             [
              0.3333333333333333,
              "#9c179e"
             ],
             [
              0.4444444444444444,
              "#bd3786"
             ],
             [
              0.5555555555555556,
              "#d8576b"
             ],
             [
              0.6666666666666666,
              "#ed7953"
             ],
             [
              0.7777777777777778,
              "#fb9f3a"
             ],
             [
              0.8888888888888888,
              "#fdca26"
             ],
             [
              1,
              "#f0f921"
             ]
            ],
            "type": "histogram2dcontour"
           }
          ],
          "mesh3d": [
           {
            "colorbar": {
             "outlinewidth": 0,
             "ticks": ""
            },
            "type": "mesh3d"
           }
          ],
          "parcoords": [
           {
            "line": {
             "colorbar": {
              "outlinewidth": 0,
              "ticks": ""
             }
            },
            "type": "parcoords"
           }
          ],
          "pie": [
           {
            "automargin": true,
            "type": "pie"
           }
          ],
          "scatter": [
           {
            "fillpattern": {
             "fillmode": "overlay",
             "size": 10,
             "solidity": 0.2
            },
            "type": "scatter"
           }
          ],
          "scatter3d": [
           {
            "line": {
             "colorbar": {
              "outlinewidth": 0,
              "ticks": ""
             }
            },
            "marker": {
             "colorbar": {
              "outlinewidth": 0,
              "ticks": ""
             }
            },
            "type": "scatter3d"
           }
          ],
          "scattercarpet": [
           {
            "marker": {
             "colorbar": {
              "outlinewidth": 0,
              "ticks": ""
             }
            },
            "type": "scattercarpet"
           }
          ],
          "scattergeo": [
           {
            "marker": {
             "colorbar": {
              "outlinewidth": 0,
              "ticks": ""
             }
            },
            "type": "scattergeo"
           }
          ],
          "scattergl": [
           {
            "marker": {
             "colorbar": {
              "outlinewidth": 0,
              "ticks": ""
             }
            },
            "type": "scattergl"
           }
          ],
          "scattermapbox": [
           {
            "marker": {
             "colorbar": {
              "outlinewidth": 0,
              "ticks": ""
             }
            },
            "type": "scattermapbox"
           }
          ],
          "scatterpolar": [
           {
            "marker": {
             "colorbar": {
              "outlinewidth": 0,
              "ticks": ""
             }
            },
            "type": "scatterpolar"
           }
          ],
          "scatterpolargl": [
           {
            "marker": {
             "colorbar": {
              "outlinewidth": 0,
              "ticks": ""
             }
            },
            "type": "scatterpolargl"
           }
          ],
          "scatterternary": [
           {
            "marker": {
             "colorbar": {
              "outlinewidth": 0,
              "ticks": ""
             }
            },
            "type": "scatterternary"
           }
          ],
          "surface": [
           {
            "colorbar": {
             "outlinewidth": 0,
             "ticks": ""
            },
            "colorscale": [
             [
              0,
              "#0d0887"
             ],
             [
              0.1111111111111111,
              "#46039f"
             ],
             [
              0.2222222222222222,
              "#7201a8"
             ],
             [
              0.3333333333333333,
              "#9c179e"
             ],
             [
              0.4444444444444444,
              "#bd3786"
             ],
             [
              0.5555555555555556,
              "#d8576b"
             ],
             [
              0.6666666666666666,
              "#ed7953"
             ],
             [
              0.7777777777777778,
              "#fb9f3a"
             ],
             [
              0.8888888888888888,
              "#fdca26"
             ],
             [
              1,
              "#f0f921"
             ]
            ],
            "type": "surface"
           }
          ],
          "table": [
           {
            "cells": {
             "fill": {
              "color": "#EBF0F8"
             },
             "line": {
              "color": "white"
             }
            },
            "header": {
             "fill": {
              "color": "#C8D4E3"
             },
             "line": {
              "color": "white"
             }
            },
            "type": "table"
           }
          ]
         },
         "layout": {
          "annotationdefaults": {
           "arrowcolor": "#2a3f5f",
           "arrowhead": 0,
           "arrowwidth": 1
          },
          "autotypenumbers": "strict",
          "coloraxis": {
           "colorbar": {
            "outlinewidth": 0,
            "ticks": ""
           }
          },
          "colorscale": {
           "diverging": [
            [
             0,
             "#8e0152"
            ],
            [
             0.1,
             "#c51b7d"
            ],
            [
             0.2,
             "#de77ae"
            ],
            [
             0.3,
             "#f1b6da"
            ],
            [
             0.4,
             "#fde0ef"
            ],
            [
             0.5,
             "#f7f7f7"
            ],
            [
             0.6,
             "#e6f5d0"
            ],
            [
             0.7,
             "#b8e186"
            ],
            [
             0.8,
             "#7fbc41"
            ],
            [
             0.9,
             "#4d9221"
            ],
            [
             1,
             "#276419"
            ]
           ],
           "sequential": [
            [
             0,
             "#0d0887"
            ],
            [
             0.1111111111111111,
             "#46039f"
            ],
            [
             0.2222222222222222,
             "#7201a8"
            ],
            [
             0.3333333333333333,
             "#9c179e"
            ],
            [
             0.4444444444444444,
             "#bd3786"
            ],
            [
             0.5555555555555556,
             "#d8576b"
            ],
            [
             0.6666666666666666,
             "#ed7953"
            ],
            [
             0.7777777777777778,
             "#fb9f3a"
            ],
            [
             0.8888888888888888,
             "#fdca26"
            ],
            [
             1,
             "#f0f921"
            ]
           ],
           "sequentialminus": [
            [
             0,
             "#0d0887"
            ],
            [
             0.1111111111111111,
             "#46039f"
            ],
            [
             0.2222222222222222,
             "#7201a8"
            ],
            [
             0.3333333333333333,
             "#9c179e"
            ],
            [
             0.4444444444444444,
             "#bd3786"
            ],
            [
             0.5555555555555556,
             "#d8576b"
            ],
            [
             0.6666666666666666,
             "#ed7953"
            ],
            [
             0.7777777777777778,
             "#fb9f3a"
            ],
            [
             0.8888888888888888,
             "#fdca26"
            ],
            [
             1,
             "#f0f921"
            ]
           ]
          },
          "colorway": [
           "#636efa",
           "#EF553B",
           "#00cc96",
           "#ab63fa",
           "#FFA15A",
           "#19d3f3",
           "#FF6692",
           "#B6E880",
           "#FF97FF",
           "#FECB52"
          ],
          "font": {
           "color": "#2a3f5f"
          },
          "geo": {
           "bgcolor": "white",
           "lakecolor": "white",
           "landcolor": "#E5ECF6",
           "showlakes": true,
           "showland": true,
           "subunitcolor": "white"
          },
          "hoverlabel": {
           "align": "left"
          },
          "hovermode": "closest",
          "mapbox": {
           "style": "light"
          },
          "paper_bgcolor": "white",
          "plot_bgcolor": "#E5ECF6",
          "polar": {
           "angularaxis": {
            "gridcolor": "white",
            "linecolor": "white",
            "ticks": ""
           },
           "bgcolor": "#E5ECF6",
           "radialaxis": {
            "gridcolor": "white",
            "linecolor": "white",
            "ticks": ""
           }
          },
          "scene": {
           "xaxis": {
            "backgroundcolor": "#E5ECF6",
            "gridcolor": "white",
            "gridwidth": 2,
            "linecolor": "white",
            "showbackground": true,
            "ticks": "",
            "zerolinecolor": "white"
           },
           "yaxis": {
            "backgroundcolor": "#E5ECF6",
            "gridcolor": "white",
            "gridwidth": 2,
            "linecolor": "white",
            "showbackground": true,
            "ticks": "",
            "zerolinecolor": "white"
           },
           "zaxis": {
            "backgroundcolor": "#E5ECF6",
            "gridcolor": "white",
            "gridwidth": 2,
            "linecolor": "white",
            "showbackground": true,
            "ticks": "",
            "zerolinecolor": "white"
           }
          },
          "shapedefaults": {
           "line": {
            "color": "#2a3f5f"
           }
          },
          "ternary": {
           "aaxis": {
            "gridcolor": "white",
            "linecolor": "white",
            "ticks": ""
           },
           "baxis": {
            "gridcolor": "white",
            "linecolor": "white",
            "ticks": ""
           },
           "bgcolor": "#E5ECF6",
           "caxis": {
            "gridcolor": "white",
            "linecolor": "white",
            "ticks": ""
           }
          },
          "title": {
           "x": 0.05
          },
          "xaxis": {
           "automargin": true,
           "gridcolor": "white",
           "linecolor": "white",
           "ticks": "",
           "title": {
            "standoff": 15
           },
           "zerolinecolor": "white",
           "zerolinewidth": 2
          },
          "yaxis": {
           "automargin": true,
           "gridcolor": "white",
           "linecolor": "white",
           "ticks": "",
           "title": {
            "standoff": 15
           },
           "zerolinecolor": "white",
           "zerolinewidth": 2
          }
         }
        },
        "title": {
         "text": "H2B intensity versus nucleus size",
         "x": 0.5,
         "xanchor": "center",
         "y": 0.95,
         "yanchor": "top"
        },
        "xaxis": {
         "anchor": "y",
         "domain": [
          0,
          1
         ],
         "title": {
          "text": "Area of cell in um^2"
         }
        },
        "yaxis": {
         "anchor": "x",
         "domain": [
          0,
          1
         ],
         "title": {
          "text": "Mean intensity per pixel"
         }
        }
       }
      }
     },
     "metadata": {},
     "output_type": "display_data"
    }
   ],
   "source": [
    "fig = px.scatter(data_frame=filtered_intensity_df,\n",
    "                 x='Area_um2',\n",
    "                 y=[probe1_name],\n",
    "                 color='FOV_ID',\n",
    "                 hover_data=['FOV_ID','Cell_ID'])\n",
    "fig.update_layout(\n",
    "    yaxis_title='Mean intensity per pixel',\n",
    "    xaxis_title='Area of cell in um^2',\n",
    "    title=dict(\n",
    "        text=probe1_name+' intensity versus nucleus size',\n",
    "        x=0.5,\n",
    "        y=0.95,\n",
    "        xanchor=\"center\",\n",
    "        yanchor=\"top\",\n",
    "        ),\n",
    ")\n",
    "pio.write_image(fig, root_path+output_path+'area_vs_intensity '+probe1_name+'.png',format='png')\n",
    "fig.show()"
   ]
  },
  {
   "cell_type": "code",
   "execution_count": 8,
   "metadata": {},
   "outputs": [
    {
     "data": {
      "application/vnd.plotly.v1+json": {
       "config": {
        "plotlyServerURL": "https://plot.ly"
       },
       "data": [
        {
         "customdata": [
          [
           "1",
           "1"
          ],
          [
           "1",
           "2"
          ],
          [
           "1",
           "3"
          ],
          [
           "1",
           "4"
          ],
          [
           "1",
           "5"
          ],
          [
           "1",
           "6"
          ],
          [
           "1",
           "7"
          ],
          [
           "1",
           "8"
          ],
          [
           "1",
           "10"
          ],
          [
           "1",
           "11"
          ],
          [
           "1",
           "13"
          ],
          [
           "1",
           "14"
          ],
          [
           "1",
           "15"
          ],
          [
           "1",
           "16"
          ],
          [
           "1",
           "18"
          ],
          [
           "1",
           "19"
          ],
          [
           "1",
           "20"
          ],
          [
           "1",
           "21"
          ],
          [
           "1",
           "22"
          ],
          [
           "1",
           "23"
          ],
          [
           "1",
           "25"
          ],
          [
           "1",
           "26"
          ],
          [
           "1",
           "27"
          ],
          [
           "1",
           "28"
          ],
          [
           "1",
           "29"
          ],
          [
           "1",
           "31"
          ],
          [
           "1",
           "33"
          ],
          [
           "1",
           "34"
          ],
          [
           "1",
           "35"
          ],
          [
           "1",
           "36"
          ],
          [
           "1",
           "37"
          ],
          [
           "1",
           "38"
          ],
          [
           "1",
           "39"
          ],
          [
           "1",
           "40"
          ],
          [
           "1",
           "41"
          ],
          [
           "1",
           "42"
          ],
          [
           "1",
           "43"
          ],
          [
           "1",
           "44"
          ],
          [
           "1",
           "45"
          ],
          [
           "1",
           "46"
          ],
          [
           "1",
           "47"
          ],
          [
           "1",
           "49"
          ],
          [
           "1",
           "50"
          ],
          [
           "1",
           "51"
          ],
          [
           "1",
           "52"
          ],
          [
           "1",
           "54"
          ],
          [
           "1",
           "56"
          ],
          [
           "1",
           "57"
          ],
          [
           "1",
           "58"
          ],
          [
           "1",
           "59"
          ],
          [
           "1",
           "62"
          ],
          [
           "1",
           "63"
          ],
          [
           "1",
           "65"
          ]
         ],
         "hovertemplate": "FOV_ID=%{customdata[0]}<br>Area_um2=%{x}<br>value=%{y}<br>Cell_ID=%{customdata[1]}<extra></extra>",
         "legendgroup": "1",
         "marker": {
          "color": "#636efa",
          "symbol": "circle"
         },
         "mode": "markers",
         "name": "1",
         "orientation": "v",
         "showlegend": true,
         "type": "scatter",
         "x": [
          102.36,
          85.74,
          97.23,
          118.29,
          79.53,
          156.4,
          94.93,
          108.13,
          92.61,
          82.2,
          119.67,
          103.05,
          99.66,
          104.48,
          95.13,
          87.65,
          79.41,
          78.54,
          119.92,
          81.61,
          97.16,
          97.82000000000001,
          84.94,
          104.2,
          106.77,
          81.85000000000001,
          79.93,
          139.89000000000001,
          93.92,
          86.25,
          96.97,
          109.72,
          86.71000000000001,
          115.09,
          101.91,
          124.04,
          139.56,
          94.38,
          113.57000000000001,
          84.5,
          114.13,
          90.53,
          116.66,
          79.72,
          91.45,
          90.95,
          102.93,
          126.9,
          99.07000000000001,
          112.03,
          97.72,
          93.74,
          110.2
         ],
         "xaxis": "x",
         "y": [
          629.155864091488,
          515.6390519702163,
          522.798994664154,
          569.1080273525022,
          722.5429861401476,
          729.765761384928,
          725.2202412304894,
          601.0385717902775,
          798.8171807311344,
          660.8212384821459,
          528.4622194889168,
          493.64979984240966,
          570.6027761481666,
          540.7395312763988,
          851.5258479255428,
          706.1840052649845,
          924.709178187105,
          731.0219180373124,
          457.80077820773744,
          553.0321821400571,
          770.8508388904322,
          671.1928610711307,
          685.839023585356,
          636.7692058479172,
          768.3185834811852,
          773.583654003982,
          852.1136808960221,
          600.0397539163268,
          769.1091952046452,
          992.8981237037685,
          759.1279871517497,
          619.0474138917041,
          780.1017751088352,
          755.2715782881455,
          485.8518527997741,
          597.1227461584233,
          649.5231233423845,
          694.0529493945469,
          668.3421960488588,
          927.7136633658902,
          575.7268304747151,
          661.7650106129042,
          530.0675277591556,
          552.8577556474556,
          549.2775277338476,
          491.87992169756996,
          559.0834938878111,
          1051.011537757971,
          421.06564300135216,
          807.3178686426888,
          520.7181484179773,
          805.5063883271641,
          746.1933180013566
         ],
         "yaxis": "y"
        },
        {
         "customdata": [
          [
           "2",
           "1"
          ],
          [
           "2",
           "2"
          ],
          [
           "2",
           "3"
          ],
          [
           "2",
           "4"
          ],
          [
           "2",
           "5"
          ],
          [
           "2",
           "6"
          ],
          [
           "2",
           "8"
          ],
          [
           "2",
           "9"
          ],
          [
           "2",
           "11"
          ],
          [
           "2",
           "12"
          ],
          [
           "2",
           "13"
          ],
          [
           "2",
           "14"
          ],
          [
           "2",
           "15"
          ],
          [
           "2",
           "16"
          ],
          [
           "2",
           "17"
          ],
          [
           "2",
           "18"
          ],
          [
           "2",
           "19"
          ],
          [
           "2",
           "20"
          ],
          [
           "2",
           "21"
          ],
          [
           "2",
           "22"
          ],
          [
           "2",
           "23"
          ],
          [
           "2",
           "24"
          ],
          [
           "2",
           "25"
          ],
          [
           "2",
           "26"
          ],
          [
           "2",
           "28"
          ],
          [
           "2",
           "30"
          ],
          [
           "2",
           "31"
          ],
          [
           "2",
           "32"
          ],
          [
           "2",
           "33"
          ],
          [
           "2",
           "34"
          ],
          [
           "2",
           "35"
          ],
          [
           "2",
           "36"
          ],
          [
           "2",
           "37"
          ],
          [
           "2",
           "38"
          ],
          [
           "2",
           "39"
          ],
          [
           "2",
           "40"
          ],
          [
           "2",
           "41"
          ],
          [
           "2",
           "42"
          ],
          [
           "2",
           "45"
          ],
          [
           "2",
           "46"
          ],
          [
           "2",
           "47"
          ],
          [
           "2",
           "48"
          ]
         ],
         "hovertemplate": "FOV_ID=%{customdata[0]}<br>Area_um2=%{x}<br>value=%{y}<br>Cell_ID=%{customdata[1]}<extra></extra>",
         "legendgroup": "2",
         "marker": {
          "color": "#EF553B",
          "symbol": "circle"
         },
         "mode": "markers",
         "name": "2",
         "orientation": "v",
         "showlegend": true,
         "type": "scatter",
         "x": [
          98.31,
          106.66,
          89.11,
          82.61,
          107.48,
          79.03,
          144.91,
          91.18,
          83.31,
          98.26,
          99.45,
          84.91,
          83.39,
          113.89,
          130.86,
          85.39,
          132.09,
          79.09,
          85.43,
          134.3,
          111.09,
          93.03,
          132.53,
          85.07000000000001,
          93.15,
          155.07,
          87.53,
          99.48,
          77.11,
          98.26,
          98.64,
          85.01,
          83.82000000000001,
          85.51,
          126.88000000000001,
          92.48,
          157.43,
          113.5,
          118.14,
          93.63,
          91.59,
          81.82000000000001
         ],
         "xaxis": "x",
         "y": [
          833.0320553764193,
          830.7176904337523,
          919.2576952415941,
          864.022708502496,
          1003.6963687915572,
          1029.3176091486202,
          832.1379326324866,
          1075.9804184549337,
          1088.2623653316232,
          1080.2427069512335,
          940.1333864845142,
          1002.3078905271527,
          982.6227895697525,
          1054.1084522702095,
          931.8702484412322,
          978.280519771934,
          1124.256612878329,
          971.5297537722665,
          868.3633614251144,
          970.5773020708721,
          1209.8703285940128,
          1101.5405221836165,
          974.6265616127766,
          904.2584520694586,
          844.7801387912837,
          1454.5882321285922,
          966.3789224917912,
          865.6209195144902,
          837.9091979815307,
          855.5677629251802,
          1106.8997670887866,
          902.7603686944562,
          970.8321646606894,
          992.8969562974116,
          907.9186757599555,
          838.7274222473866,
          1492.404317895466,
          1058.9871576443957,
          1273.5862099746037,
          970.3341933896504,
          1053.1835678867467,
          924.6426653722222
         ],
         "yaxis": "y"
        },
        {
         "customdata": [
          [
           "3",
           "1"
          ],
          [
           "3",
           "2"
          ],
          [
           "3",
           "3"
          ],
          [
           "3",
           "4"
          ],
          [
           "3",
           "5"
          ],
          [
           "3",
           "6"
          ],
          [
           "3",
           "7"
          ],
          [
           "3",
           "8"
          ],
          [
           "3",
           "9"
          ],
          [
           "3",
           "10"
          ],
          [
           "3",
           "11"
          ],
          [
           "3",
           "12"
          ],
          [
           "3",
           "13"
          ],
          [
           "3",
           "16"
          ],
          [
           "3",
           "17"
          ],
          [
           "3",
           "19"
          ],
          [
           "3",
           "20"
          ],
          [
           "3",
           "21"
          ],
          [
           "3",
           "22"
          ],
          [
           "3",
           "23"
          ],
          [
           "3",
           "24"
          ],
          [
           "3",
           "25"
          ],
          [
           "3",
           "26"
          ],
          [
           "3",
           "27"
          ],
          [
           "3",
           "29"
          ],
          [
           "3",
           "31"
          ],
          [
           "3",
           "33"
          ],
          [
           "3",
           "34"
          ],
          [
           "3",
           "36"
          ]
         ],
         "hovertemplate": "FOV_ID=%{customdata[0]}<br>Area_um2=%{x}<br>value=%{y}<br>Cell_ID=%{customdata[1]}<extra></extra>",
         "legendgroup": "3",
         "marker": {
          "color": "#00cc96",
          "symbol": "circle"
         },
         "mode": "markers",
         "name": "3",
         "orientation": "v",
         "showlegend": true,
         "type": "scatter",
         "x": [
          136.11,
          98.43,
          121.47,
          79.86,
          76.11,
          85.25,
          94.56,
          121.02,
          119.25,
          157.68,
          96.14,
          127,
          98.59,
          92.99,
          116.64,
          124.29,
          114.52,
          98.94,
          92.27,
          85.45,
          76.99,
          79.62,
          114.51,
          76.76,
          109.74000000000001,
          101.64,
          84.04,
          81.8,
          97.54
         ],
         "xaxis": "x",
         "y": [
          1196.4096217715257,
          1004.1759557273051,
          1044.3946924124018,
          974.1436644186733,
          1180.2720755295245,
          864.6083846144998,
          1131.4591465568312,
          1247.6691608222084,
          941.4471515904061,
          1078.2023477842738,
          911.6820235952873,
          972.7916792319982,
          898.8526090351359,
          1177.1533459085435,
          942.9449112508353,
          906.2347655243434,
          1113.6604074808204,
          925.902913814637,
          765.2231204576377,
          1062.4900707028128,
          1132.22963219245,
          1113.753063761268,
          1244.145090184657,
          1233.6169993010958,
          1012.8118185161186,
          1058.2743305844633,
          958.1578853130918,
          713.9866387068071,
          975.8366005806392
         ],
         "yaxis": "y"
        },
        {
         "customdata": [
          [
           "4",
           "1"
          ],
          [
           "4",
           "3"
          ],
          [
           "4",
           "4"
          ],
          [
           "4",
           "5"
          ],
          [
           "4",
           "7"
          ],
          [
           "4",
           "9"
          ],
          [
           "4",
           "10"
          ],
          [
           "4",
           "15"
          ],
          [
           "4",
           "16"
          ],
          [
           "4",
           "18"
          ],
          [
           "4",
           "19"
          ],
          [
           "4",
           "20"
          ],
          [
           "4",
           "21"
          ],
          [
           "4",
           "22"
          ],
          [
           "4",
           "23"
          ],
          [
           "4",
           "24"
          ],
          [
           "4",
           "25"
          ],
          [
           "4",
           "27"
          ],
          [
           "4",
           "28"
          ],
          [
           "4",
           "30"
          ],
          [
           "4",
           "31"
          ],
          [
           "4",
           "32"
          ],
          [
           "4",
           "33"
          ]
         ],
         "hovertemplate": "FOV_ID=%{customdata[0]}<br>Area_um2=%{x}<br>value=%{y}<br>Cell_ID=%{customdata[1]}<extra></extra>",
         "legendgroup": "4",
         "marker": {
          "color": "#ab63fa",
          "symbol": "circle"
         },
         "mode": "markers",
         "name": "4",
         "orientation": "v",
         "showlegend": true,
         "type": "scatter",
         "x": [
          115.19,
          125.3,
          82.69,
          89.25,
          131.02,
          81.61,
          114.79,
          148.70000000000002,
          170.91,
          112.34,
          86.86,
          106.24000000000001,
          77.53,
          123.66,
          78.61,
          84.76,
          105.09,
          115.48,
          90.26,
          132.29,
          88.46000000000001,
          112.88,
          174.83
         ],
         "xaxis": "x",
         "y": [
          1031.280386889837,
          1040.9340379553898,
          1084.3058718812142,
          1115.7893896603175,
          1034.032631006925,
          1058.8086836653843,
          1072.2306082148184,
          791.900709577659,
          1173.9563468037156,
          1136.3663387279987,
          972.2340253308419,
          949.5034045328327,
          955.6874620862438,
          1279.1439619559994,
          1209.9766544647255,
          903.6153507989022,
          1104.9516841002173,
          990.242059631666,
          847.2031415417482,
          929.9065492831053,
          1064.0128016694803,
          1071.7392578726626,
          1032.4691212667392
         ],
         "yaxis": "y"
        }
       ],
       "layout": {
        "legend": {
         "title": {
          "text": "FOV_ID"
         },
         "tracegroupgap": 0
        },
        "margin": {
         "t": 60
        },
        "template": {
         "data": {
          "bar": [
           {
            "error_x": {
             "color": "#2a3f5f"
            },
            "error_y": {
             "color": "#2a3f5f"
            },
            "marker": {
             "line": {
              "color": "#E5ECF6",
              "width": 0.5
             },
             "pattern": {
              "fillmode": "overlay",
              "size": 10,
              "solidity": 0.2
             }
            },
            "type": "bar"
           }
          ],
          "barpolar": [
           {
            "marker": {
             "line": {
              "color": "#E5ECF6",
              "width": 0.5
             },
             "pattern": {
              "fillmode": "overlay",
              "size": 10,
              "solidity": 0.2
             }
            },
            "type": "barpolar"
           }
          ],
          "carpet": [
           {
            "aaxis": {
             "endlinecolor": "#2a3f5f",
             "gridcolor": "white",
             "linecolor": "white",
             "minorgridcolor": "white",
             "startlinecolor": "#2a3f5f"
            },
            "baxis": {
             "endlinecolor": "#2a3f5f",
             "gridcolor": "white",
             "linecolor": "white",
             "minorgridcolor": "white",
             "startlinecolor": "#2a3f5f"
            },
            "type": "carpet"
           }
          ],
          "choropleth": [
           {
            "colorbar": {
             "outlinewidth": 0,
             "ticks": ""
            },
            "type": "choropleth"
           }
          ],
          "contour": [
           {
            "colorbar": {
             "outlinewidth": 0,
             "ticks": ""
            },
            "colorscale": [
             [
              0,
              "#0d0887"
             ],
             [
              0.1111111111111111,
              "#46039f"
             ],
             [
              0.2222222222222222,
              "#7201a8"
             ],
             [
              0.3333333333333333,
              "#9c179e"
             ],
             [
              0.4444444444444444,
              "#bd3786"
             ],
             [
              0.5555555555555556,
              "#d8576b"
             ],
             [
              0.6666666666666666,
              "#ed7953"
             ],
             [
              0.7777777777777778,
              "#fb9f3a"
             ],
             [
              0.8888888888888888,
              "#fdca26"
             ],
             [
              1,
              "#f0f921"
             ]
            ],
            "type": "contour"
           }
          ],
          "contourcarpet": [
           {
            "colorbar": {
             "outlinewidth": 0,
             "ticks": ""
            },
            "type": "contourcarpet"
           }
          ],
          "heatmap": [
           {
            "colorbar": {
             "outlinewidth": 0,
             "ticks": ""
            },
            "colorscale": [
             [
              0,
              "#0d0887"
             ],
             [
              0.1111111111111111,
              "#46039f"
             ],
             [
              0.2222222222222222,
              "#7201a8"
             ],
             [
              0.3333333333333333,
              "#9c179e"
             ],
             [
              0.4444444444444444,
              "#bd3786"
             ],
             [
              0.5555555555555556,
              "#d8576b"
             ],
             [
              0.6666666666666666,
              "#ed7953"
             ],
             [
              0.7777777777777778,
              "#fb9f3a"
             ],
             [
              0.8888888888888888,
              "#fdca26"
             ],
             [
              1,
              "#f0f921"
             ]
            ],
            "type": "heatmap"
           }
          ],
          "heatmapgl": [
           {
            "colorbar": {
             "outlinewidth": 0,
             "ticks": ""
            },
            "colorscale": [
             [
              0,
              "#0d0887"
             ],
             [
              0.1111111111111111,
              "#46039f"
             ],
             [
              0.2222222222222222,
              "#7201a8"
             ],
             [
              0.3333333333333333,
              "#9c179e"
             ],
             [
              0.4444444444444444,
              "#bd3786"
             ],
             [
              0.5555555555555556,
              "#d8576b"
             ],
             [
              0.6666666666666666,
              "#ed7953"
             ],
             [
              0.7777777777777778,
              "#fb9f3a"
             ],
             [
              0.8888888888888888,
              "#fdca26"
             ],
             [
              1,
              "#f0f921"
             ]
            ],
            "type": "heatmapgl"
           }
          ],
          "histogram": [
           {
            "marker": {
             "pattern": {
              "fillmode": "overlay",
              "size": 10,
              "solidity": 0.2
             }
            },
            "type": "histogram"
           }
          ],
          "histogram2d": [
           {
            "colorbar": {
             "outlinewidth": 0,
             "ticks": ""
            },
            "colorscale": [
             [
              0,
              "#0d0887"
             ],
             [
              0.1111111111111111,
              "#46039f"
             ],
             [
              0.2222222222222222,
              "#7201a8"
             ],
             [
              0.3333333333333333,
              "#9c179e"
             ],
             [
              0.4444444444444444,
              "#bd3786"
             ],
             [
              0.5555555555555556,
              "#d8576b"
             ],
             [
              0.6666666666666666,
              "#ed7953"
             ],
             [
              0.7777777777777778,
              "#fb9f3a"
             ],
             [
              0.8888888888888888,
              "#fdca26"
             ],
             [
              1,
              "#f0f921"
             ]
            ],
            "type": "histogram2d"
           }
          ],
          "histogram2dcontour": [
           {
            "colorbar": {
             "outlinewidth": 0,
             "ticks": ""
            },
            "colorscale": [
             [
              0,
              "#0d0887"
             ],
             [
              0.1111111111111111,
              "#46039f"
             ],
             [
              0.2222222222222222,
              "#7201a8"
             ],
             [
              0.3333333333333333,
              "#9c179e"
             ],
             [
              0.4444444444444444,
              "#bd3786"
             ],
             [
              0.5555555555555556,
              "#d8576b"
             ],
             [
              0.6666666666666666,
              "#ed7953"
             ],
             [
              0.7777777777777778,
              "#fb9f3a"
             ],
             [
              0.8888888888888888,
              "#fdca26"
             ],
             [
              1,
              "#f0f921"
             ]
            ],
            "type": "histogram2dcontour"
           }
          ],
          "mesh3d": [
           {
            "colorbar": {
             "outlinewidth": 0,
             "ticks": ""
            },
            "type": "mesh3d"
           }
          ],
          "parcoords": [
           {
            "line": {
             "colorbar": {
              "outlinewidth": 0,
              "ticks": ""
             }
            },
            "type": "parcoords"
           }
          ],
          "pie": [
           {
            "automargin": true,
            "type": "pie"
           }
          ],
          "scatter": [
           {
            "fillpattern": {
             "fillmode": "overlay",
             "size": 10,
             "solidity": 0.2
            },
            "type": "scatter"
           }
          ],
          "scatter3d": [
           {
            "line": {
             "colorbar": {
              "outlinewidth": 0,
              "ticks": ""
             }
            },
            "marker": {
             "colorbar": {
              "outlinewidth": 0,
              "ticks": ""
             }
            },
            "type": "scatter3d"
           }
          ],
          "scattercarpet": [
           {
            "marker": {
             "colorbar": {
              "outlinewidth": 0,
              "ticks": ""
             }
            },
            "type": "scattercarpet"
           }
          ],
          "scattergeo": [
           {
            "marker": {
             "colorbar": {
              "outlinewidth": 0,
              "ticks": ""
             }
            },
            "type": "scattergeo"
           }
          ],
          "scattergl": [
           {
            "marker": {
             "colorbar": {
              "outlinewidth": 0,
              "ticks": ""
             }
            },
            "type": "scattergl"
           }
          ],
          "scattermapbox": [
           {
            "marker": {
             "colorbar": {
              "outlinewidth": 0,
              "ticks": ""
             }
            },
            "type": "scattermapbox"
           }
          ],
          "scatterpolar": [
           {
            "marker": {
             "colorbar": {
              "outlinewidth": 0,
              "ticks": ""
             }
            },
            "type": "scatterpolar"
           }
          ],
          "scatterpolargl": [
           {
            "marker": {
             "colorbar": {
              "outlinewidth": 0,
              "ticks": ""
             }
            },
            "type": "scatterpolargl"
           }
          ],
          "scatterternary": [
           {
            "marker": {
             "colorbar": {
              "outlinewidth": 0,
              "ticks": ""
             }
            },
            "type": "scatterternary"
           }
          ],
          "surface": [
           {
            "colorbar": {
             "outlinewidth": 0,
             "ticks": ""
            },
            "colorscale": [
             [
              0,
              "#0d0887"
             ],
             [
              0.1111111111111111,
              "#46039f"
             ],
             [
              0.2222222222222222,
              "#7201a8"
             ],
             [
              0.3333333333333333,
              "#9c179e"
             ],
             [
              0.4444444444444444,
              "#bd3786"
             ],
             [
              0.5555555555555556,
              "#d8576b"
             ],
             [
              0.6666666666666666,
              "#ed7953"
             ],
             [
              0.7777777777777778,
              "#fb9f3a"
             ],
             [
              0.8888888888888888,
              "#fdca26"
             ],
             [
              1,
              "#f0f921"
             ]
            ],
            "type": "surface"
           }
          ],
          "table": [
           {
            "cells": {
             "fill": {
              "color": "#EBF0F8"
             },
             "line": {
              "color": "white"
             }
            },
            "header": {
             "fill": {
              "color": "#C8D4E3"
             },
             "line": {
              "color": "white"
             }
            },
            "type": "table"
           }
          ]
         },
         "layout": {
          "annotationdefaults": {
           "arrowcolor": "#2a3f5f",
           "arrowhead": 0,
           "arrowwidth": 1
          },
          "autotypenumbers": "strict",
          "coloraxis": {
           "colorbar": {
            "outlinewidth": 0,
            "ticks": ""
           }
          },
          "colorscale": {
           "diverging": [
            [
             0,
             "#8e0152"
            ],
            [
             0.1,
             "#c51b7d"
            ],
            [
             0.2,
             "#de77ae"
            ],
            [
             0.3,
             "#f1b6da"
            ],
            [
             0.4,
             "#fde0ef"
            ],
            [
             0.5,
             "#f7f7f7"
            ],
            [
             0.6,
             "#e6f5d0"
            ],
            [
             0.7,
             "#b8e186"
            ],
            [
             0.8,
             "#7fbc41"
            ],
            [
             0.9,
             "#4d9221"
            ],
            [
             1,
             "#276419"
            ]
           ],
           "sequential": [
            [
             0,
             "#0d0887"
            ],
            [
             0.1111111111111111,
             "#46039f"
            ],
            [
             0.2222222222222222,
             "#7201a8"
            ],
            [
             0.3333333333333333,
             "#9c179e"
            ],
            [
             0.4444444444444444,
             "#bd3786"
            ],
            [
             0.5555555555555556,
             "#d8576b"
            ],
            [
             0.6666666666666666,
             "#ed7953"
            ],
            [
             0.7777777777777778,
             "#fb9f3a"
            ],
            [
             0.8888888888888888,
             "#fdca26"
            ],
            [
             1,
             "#f0f921"
            ]
           ],
           "sequentialminus": [
            [
             0,
             "#0d0887"
            ],
            [
             0.1111111111111111,
             "#46039f"
            ],
            [
             0.2222222222222222,
             "#7201a8"
            ],
            [
             0.3333333333333333,
             "#9c179e"
            ],
            [
             0.4444444444444444,
             "#bd3786"
            ],
            [
             0.5555555555555556,
             "#d8576b"
            ],
            [
             0.6666666666666666,
             "#ed7953"
            ],
            [
             0.7777777777777778,
             "#fb9f3a"
            ],
            [
             0.8888888888888888,
             "#fdca26"
            ],
            [
             1,
             "#f0f921"
            ]
           ]
          },
          "colorway": [
           "#636efa",
           "#EF553B",
           "#00cc96",
           "#ab63fa",
           "#FFA15A",
           "#19d3f3",
           "#FF6692",
           "#B6E880",
           "#FF97FF",
           "#FECB52"
          ],
          "font": {
           "color": "#2a3f5f"
          },
          "geo": {
           "bgcolor": "white",
           "lakecolor": "white",
           "landcolor": "#E5ECF6",
           "showlakes": true,
           "showland": true,
           "subunitcolor": "white"
          },
          "hoverlabel": {
           "align": "left"
          },
          "hovermode": "closest",
          "mapbox": {
           "style": "light"
          },
          "paper_bgcolor": "white",
          "plot_bgcolor": "#E5ECF6",
          "polar": {
           "angularaxis": {
            "gridcolor": "white",
            "linecolor": "white",
            "ticks": ""
           },
           "bgcolor": "#E5ECF6",
           "radialaxis": {
            "gridcolor": "white",
            "linecolor": "white",
            "ticks": ""
           }
          },
          "scene": {
           "xaxis": {
            "backgroundcolor": "#E5ECF6",
            "gridcolor": "white",
            "gridwidth": 2,
            "linecolor": "white",
            "showbackground": true,
            "ticks": "",
            "zerolinecolor": "white"
           },
           "yaxis": {
            "backgroundcolor": "#E5ECF6",
            "gridcolor": "white",
            "gridwidth": 2,
            "linecolor": "white",
            "showbackground": true,
            "ticks": "",
            "zerolinecolor": "white"
           },
           "zaxis": {
            "backgroundcolor": "#E5ECF6",
            "gridcolor": "white",
            "gridwidth": 2,
            "linecolor": "white",
            "showbackground": true,
            "ticks": "",
            "zerolinecolor": "white"
           }
          },
          "shapedefaults": {
           "line": {
            "color": "#2a3f5f"
           }
          },
          "ternary": {
           "aaxis": {
            "gridcolor": "white",
            "linecolor": "white",
            "ticks": ""
           },
           "baxis": {
            "gridcolor": "white",
            "linecolor": "white",
            "ticks": ""
           },
           "bgcolor": "#E5ECF6",
           "caxis": {
            "gridcolor": "white",
            "linecolor": "white",
            "ticks": ""
           }
          },
          "title": {
           "x": 0.05
          },
          "xaxis": {
           "automargin": true,
           "gridcolor": "white",
           "linecolor": "white",
           "ticks": "",
           "title": {
            "standoff": 15
           },
           "zerolinecolor": "white",
           "zerolinewidth": 2
          },
          "yaxis": {
           "automargin": true,
           "gridcolor": "white",
           "linecolor": "white",
           "ticks": "",
           "title": {
            "standoff": 15
           },
           "zerolinecolor": "white",
           "zerolinewidth": 2
          }
         }
        },
        "title": {
         "text": "PolII intensity versus nucleus size",
         "x": 0.5,
         "xanchor": "center",
         "y": 0.95,
         "yanchor": "top"
        },
        "xaxis": {
         "anchor": "y",
         "domain": [
          0,
          1
         ],
         "title": {
          "text": "Area of cell in um^2"
         }
        },
        "yaxis": {
         "anchor": "x",
         "domain": [
          0,
          1
         ],
         "title": {
          "text": "Mean intensity per pixel"
         }
        }
       }
      }
     },
     "metadata": {},
     "output_type": "display_data"
    }
   ],
   "source": [
    "fig = px.scatter(data_frame=filtered_intensity_df,\n",
    "                 x='Area_um2',\n",
    "                 y=[probe2_name],\n",
    "                 color='FOV_ID',\n",
    "                 hover_data=['FOV_ID','Cell_ID'])\n",
    "fig.update_layout(\n",
    "    yaxis_title='Mean intensity per pixel',\n",
    "    xaxis_title='Area of cell in um^2',\n",
    "    title=dict(\n",
    "        text=probe2_name+' intensity versus nucleus size',\n",
    "        x=0.5,\n",
    "        y=0.95,\n",
    "        xanchor=\"center\",\n",
    "        yanchor=\"top\",\n",
    "        ),\n",
    ")\n",
    "pio.write_image(fig, root_path+output_path+'area_vs_intensity '+probe2_name+'.png',format='png')\n",
    "fig.show()"
   ]
  },
  {
   "attachments": {},
   "cell_type": "markdown",
   "metadata": {},
   "source": [
    "View images and masks in napari."
   ]
  },
  {
   "cell_type": "code",
   "execution_count": 9,
   "metadata": {},
   "outputs": [],
   "source": [
    "# fov_to_visualize = 2\n",
    "# to print list of names of available images\n",
    "# imgs_list[fov_to_visualize].show_image_names()\n",
    "\n",
    "\n",
    "# display images in napari\n",
    "# imgs_list[fov_to_visualize-1].view_on_napari()"
   ]
  },
  {
   "attachments": {},
   "cell_type": "markdown",
   "metadata": {},
   "source": [
    "Save the `'imgs_list'` as pickle file."
   ]
  },
  {
   "cell_type": "code",
   "execution_count": 10,
   "metadata": {},
   "outputs": [],
   "source": [
    "results = shelve.open(root_path+output_path+'results', writeback=True)\n",
    "results['imgs_list'] = imgs_list\n",
    "results.sync()\n",
    "results.close()"
   ]
  }
 ],
 "metadata": {
  "kernelspec": {
   "display_name": "Python 3",
   "language": "python",
   "name": "python3"
  },
  "language_info": {
   "codemirror_mode": {
    "name": "ipython",
    "version": 3
   },
   "file_extension": ".py",
   "mimetype": "text/x-python",
   "name": "python",
   "nbconvert_exporter": "python",
   "pygments_lexer": "ipython3",
   "version": "3.10.9"
  },
  "orig_nbformat": 4,
  "vscode": {
   "interpreter": {
    "hash": "e7f35bad49fc684f04c47e4f574c37bc56f05d706e5c4f9185fc5e04a34c2077"
   }
  }
 },
 "nbformat": 4,
 "nbformat_minor": 2
}
