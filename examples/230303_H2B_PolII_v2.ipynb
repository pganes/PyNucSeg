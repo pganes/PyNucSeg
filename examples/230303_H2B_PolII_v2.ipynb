{
 "cells": [
  {
   "attachments": {},
   "cell_type": "markdown",
   "metadata": {},
   "source": [
    "Import the required libraries."
   ]
  },
  {
   "cell_type": "code",
   "execution_count": 2,
   "metadata": {},
   "outputs": [
    {
     "name": "stdout",
     "output_type": "stream",
     "text": [
      "Found model '2D_versatile_fluo' for 'StarDist2D'.\n",
      "Loading network weights from 'weights_best.h5'.\n",
      "Loading thresholds from 'thresholds.json'.\n",
      "Using default values: prob_thresh=0.479071, nms_thresh=0.3.\n"
     ]
    }
   ],
   "source": [
    "from pynucseg import ReferenceImage # or import pynucseg\n",
    "import numpy as np\n",
    "import pandas as pd  # \"!pip install pandas\"\n",
    "import matplotlib.pyplot as plt\n",
    "import plotly.express as px # !pip install plotly nbformat\n",
    "import plotly.io as pio # kaleido is required. TO install >>> !pip install -U kaleido\n",
    "import seaborn as sns\n",
    "\n",
    "import shelve"
   ]
  },
  {
   "attachments": {},
   "cell_type": "markdown",
   "metadata": {},
   "source": [
    "Define file path and names. "
   ]
  },
  {
   "cell_type": "code",
   "execution_count": null,
   "metadata": {},
   "outputs": [],
   "source": [
    "root_path = 'E:/Lab/' # 'D:/User Folders/Ganesh/' \n",
    "file_path = 'Data/H2B + PolII/SRX output/Intensity measurement in PBS/230318 V6.5 P14 D1/'\n",
    "\n",
    "output_path = \"Python output\".join(file_path.split('SRX output'))\n",
    "n_fov = 5  # number of filed of views\n",
    "n_channel = 2  # number of channels with fluorescent nucleus \n",
    "field_of_view='f' # the very first prefix of the file name\n",
    "probe1_name = 'H2B' # 'H2B', 'H3K36me3\n",
    "probe2_name = 'PolII'\n",
    "transmitted_name ='t'\n",
    "imaging_setup = {'Laser': ['640nm', ['488nm']],\n",
    "                 'Power': [\"0.1'%' of 60%\",\"0.1'%' of 60%\" ],\n",
    "                 'Exposure': ['100ms', '100ms'],\n",
    "                 }"
   ]
  },
  {
   "attachments": {},
   "cell_type": "markdown",
   "metadata": {},
   "source": [
    "Construct ReferenceImage objects and store images, perform smoothing and intensity computations inplace."
   ]
  },
  {
   "cell_type": "code",
   "execution_count": null,
   "metadata": {},
   "outputs": [],
   "source": [
    "for fov in range(n_fov):\n",
    "    img = ReferenceImage(root_path=root_path,\n",
    "                   file_path=file_path,\n",
    "                   field_of_view=field_of_view+str(fov+1),\n",
    "                   probe1_name=probe1_name,\n",
    "                   probe2_name=probe2_name,\n",
    "                   transmitted_name='t',\n",
    "                   imaging_setup=imaging_setup,\n",
    "                   )\n",
    "    # median filtering to smooth out\n",
    "    img.smoothing(image_name=probe2_name,sigma=8)\n",
    "\n",
    "    # run segmentation\n",
    "    img.run_segmentaion2d(prob_thresh=0.5,\n",
    "                          nms_threhold=0.01,\n",
    "                          scale=0.2,  # scale down the image prior segmentation,\n",
    "                          )\n",
    "\n",
    "    # get measuremtns, save result inplace, do not spit out\n",
    "    # default area per pixel is 0.01 um^2 assuming 1 pixel=100nm\n",
    "    img.get_cell_info(probe_names=[probe1_name,probe2_name]) "
   ]
  },
  {
   "attachments": {},
   "cell_type": "markdown",
   "metadata": {},
   "source": [
    "Extract result to DataFrame, and save to disk as csv."
   ]
  },
  {
   "cell_type": "code",
   "execution_count": null,
   "metadata": {},
   "outputs": [],
   "source": [
    "imgs_list = ReferenceImage.all_fovs\n",
    "area_n_ADU = np.empty((0,n_channel+3))\n",
    "for fov in range(n_fov):\n",
    "    # get [area, mean_intensity_per_pixel) per field of view\n",
    "    area_n_ADU_per_cell = imgs_list[fov].area_n_ADU\n",
    "    # add FOV_ID and Cell_ID column \n",
    "    area_n_ADU_per_cell_w_fovID = np.hstack(\n",
    "        (area_n_ADU_per_cell,\n",
    "         np.repeat(int(fov+1),area_n_ADU_per_cell.shape[0]).reshape(-1,1),\n",
    "         np.arange(1,area_n_ADU_per_cell.shape[0]+1).reshape(-1,1),\n",
    "         ))\n",
    "    # concatenate  the values in the main array\n",
    "    area_n_ADU = np.vstack((area_n_ADU,area_n_ADU_per_cell_w_fovID))\n",
    "\n",
    "# delete temporaty files from workspace\n",
    "del area_n_ADU_per_cell, area_n_ADU_per_cell_w_fovID\n",
    "\n",
    "# construct pandas DataFrame \n",
    "intensity_df = pd.DataFrame(data=area_n_ADU,columns=['Area_um2',probe1_name,probe2_name,'FOV_ID','Cell_ID'])\n",
    "intensity_df['FOV_ID'] = intensity_df['FOV_ID'].astype(int)  # int or str. str make FOV_ID categorical\n",
    "intensity_df['Cell_ID'] = intensity_df['Cell_ID'].astype(int)  # int or str. str make FOV_ID categorical\n",
    "intensity_df['FOV_ID'] = intensity_df['FOV_ID'].astype(str)  # int or str. str make FOV_ID categorical\n",
    "intensity_df['Cell_ID'] = intensity_df['Cell_ID'].astype(str)  # int or str. str make FOV_ID categorical\n",
    "\n",
    "\n",
    "# filter out the nucleus that has very small or big area, potential false positive\n",
    "min_area = 75 # um^2  ~ circle of diameter 9.7 um\n",
    "max_area = 175 # um^2  ~ circle of diameter 14.9 um\n",
    "\n",
    "# filter out the DataFrame, i.e. consider only the nucles with area: min_area <= area <= max_area \n",
    "filtered_intensity_df = intensity_df.loc[(intensity_df['Area_um2'] >= min_area) & (intensity_df['Area_um2'] <= max_area)]\n",
    "# save DataFrame to disk as csv\n",
    "filtered_intensity_df.to_csv(root_path+output_path+'mean_intensity_per_pxl.csv')\n"
   ]
  },
  {
   "attachments": {},
   "cell_type": "markdown",
   "metadata": {},
   "source": [
    "Compute mean and standard error of measuremt."
   ]
  },
  {
   "cell_type": "code",
   "execution_count": null,
   "metadata": {},
   "outputs": [],
   "source": [
    "stat = filtered_intensity_df[[probe1_name,probe2_name]].describe() # get count, mean, std, min, 25%, 50%, 75%, max\n",
    "n_cells = stat.loc['count'][0] # number of cells, i.e. data points\n",
    "std_err = stat.loc['std']/np.sqrt(n_cells) # standard error\n"
   ]
  },
  {
   "attachments": {},
   "cell_type": "markdown",
   "metadata": {},
   "source": [
    "Violins for mean intensities per nucleus per probe. "
   ]
  },
  {
   "cell_type": "code",
   "execution_count": null,
   "metadata": {},
   "outputs": [],
   "source": [
    "title = 'Intensity comparision on two color channels'\n",
    "fig, ax = plt.subplots()\n",
    "ax = sns.violinplot(data=filtered_intensity_df[[probe1_name,probe2_name]], inner=None, linewidth=1, saturation=0.5,alpha=0)\n",
    "\n",
    "# change alpha for edges and faces\n",
    "ax.collections[0].set_edgecolor((1,0,1, 1))\n",
    "ax.collections[1].set_edgecolor((0,1, 1,1))\n",
    "ax.collections[0].set_facecolor((1,0,1, 0.05))\n",
    "ax.collections[1].set_facecolor((0,1,1, 0.05))\n",
    "\n",
    "sns.boxplot(data=filtered_intensity_df[[probe1_name,probe2_name]], saturation=0.5, width=0.2,\n",
    "            palette='rocket', boxprops={'zorder': 2,'facecolor': 'None'},  ax=ax,\n",
    "            showfliers=False)\n",
    "\n",
    "sns.stripplot(data=filtered_intensity_df[[probe1_name,probe2_name]], jitter=True)\n",
    "\n",
    "\n",
    "ax.plot([0,1],stat.loc['mean'],'sg')\n",
    "# Add text to the plot\n",
    "plt.text(0+0.1, stat.loc['mean'][probe1_name], \n",
    "        f\"$\\mu=${round(stat.loc['mean'][probe1_name])}\"+\\\n",
    "        u\"\\u00B1\"+\\\n",
    "        f\"{round(std_err[probe1_name])}\")  # u\"\\u00B1\" = +- symbol\n",
    "plt.text(1+0.1, stat.loc['mean'][probe2_name], \n",
    "        f\"$\\mu=${round(stat.loc['mean'][probe2_name])}\"+\\\n",
    "        u\"\\u00B1\"+\\\n",
    "        f\"{round(std_err[probe2_name])}\")\n",
    "\n",
    "# adjust axis limits\n",
    "# ax.set_ylim(-100,3000)\n",
    "ax.set_xlim(-0.5,1.5)\n",
    "ax.set_ylabel('Mean intensity per pixel')\n",
    "ax.set_title(title+f'\\n(n={int(n_cells)})')\n",
    "# show plot\n",
    "plt.savefig(root_path+output_path+ title+'.png')\n",
    "plt.show();"
   ]
  },
  {
   "attachments": {},
   "cell_type": "markdown",
   "metadata": {},
   "source": [
    "Area versus intensity per probe."
   ]
  },
  {
   "cell_type": "code",
   "execution_count": null,
   "metadata": {},
   "outputs": [],
   "source": [
    "fig = px.scatter(data_frame=filtered_intensity_df,\n",
    "                 x='Area_um2',\n",
    "                 y=[probe1_name],\n",
    "                 color='FOV_ID',\n",
    "                 hover_data=['FOV_ID','Cell_ID'])\n",
    "fig.update_layout(\n",
    "    yaxis_title='Mean intensity per pixel',\n",
    "    xaxis_title='Area of cell in um^2',\n",
    "    title=dict(\n",
    "        text=probe1_name+' intensity versus nucleus size',\n",
    "        x=0.5,\n",
    "        y=0.95,\n",
    "        xanchor=\"center\",\n",
    "        yanchor=\"top\",\n",
    "        ),\n",
    ")\n",
    "pio.write_image(fig, root_path+output_path+'area_vs_intensity '+probe1_name+'.png',format='png')\n",
    "# fig.show()"
   ]
  },
  {
   "cell_type": "code",
   "execution_count": null,
   "metadata": {},
   "outputs": [],
   "source": [
    "fig = px.scatter(data_frame=filtered_intensity_df,\n",
    "                 x='Area_um2',\n",
    "                 y=[probe2_name],\n",
    "                 color='FOV_ID',\n",
    "                 hover_data=['FOV_ID','Cell_ID'])\n",
    "fig.update_layout(\n",
    "    yaxis_title='Mean intensity per pixel',\n",
    "    xaxis_title='Area of cell in um^2',\n",
    "    title=dict(\n",
    "        text=probe2_name+' intensity versus nucleus size',\n",
    "        x=0.5,\n",
    "        y=0.95,\n",
    "        xanchor=\"center\",\n",
    "        yanchor=\"top\",\n",
    "        ),\n",
    ")\n",
    "pio.write_image(fig, root_path+output_path+'area_vs_intensity '+probe2_name+'.png',format='png')\n",
    "# fig.show()"
   ]
  },
  {
   "attachments": {},
   "cell_type": "markdown",
   "metadata": {},
   "source": [
    "View images and masks in napari."
   ]
  },
  {
   "cell_type": "code",
   "execution_count": null,
   "metadata": {},
   "outputs": [],
   "source": [
    "# fov_to_visualize = 4\n",
    "# # to print list of names of available images\n",
    "# # imgs_list[fov_to_visualize].show_image_names()\n",
    "\n",
    "\n",
    "# # display images in napari\n",
    "# imgs_list[fov_to_visualize-1].view_on_napari()"
   ]
  },
  {
   "attachments": {},
   "cell_type": "markdown",
   "metadata": {},
   "source": [
    "Save the `'imgs_list'` as pickle file."
   ]
  },
  {
   "cell_type": "code",
   "execution_count": null,
   "metadata": {},
   "outputs": [],
   "source": [
    "results = shelve.open(root_path+output_path+'results', writeback=True)\n",
    "results['imgs_list'] = imgs_list\n",
    "results.sync()\n",
    "results.close()"
   ]
  },
  {
   "attachments": {},
   "cell_type": "markdown",
   "metadata": {},
   "source": [
    "Open the saved `results` and visualize the images, masks, and the background."
   ]
  },
  {
   "cell_type": "code",
   "execution_count": 6,
   "metadata": {},
   "outputs": [],
   "source": [
    "# with shelve.open('E:/Lab/Data/H2B + PolII/Python output/Intensity measurement in PBS/230318 V6.5 P14 D3/results') as results_new:\n",
    "#     imgs_list_new = results_new['imgs_list']\n"
   ]
  },
  {
   "cell_type": "code",
   "execution_count": 7,
   "metadata": {},
   "outputs": [
    {
     "name": "stderr",
     "output_type": "stream",
     "text": [
      "WARNING: QWindowsWindow::setGeometry: Unable to set geometry 1920x1108+0+34 (frame: 1942x1164-11-11) on QWidgetWindow/\"_QtMainWindowClassWindow\" on \"\\\\.\\DISPLAY1\". Resulting geometry: 1920x1102+0+34 (frame: 1942x1158-11-11) margins: 11, 45, 11, 11 minimum size: 374x551 MINMAXINFO maxSize=0,0 maxpos=0,0 mintrack=770,1158 maxtrack=0,0)\n"
     ]
    }
   ],
   "source": [
    "# fov_to_visualize = 1\n",
    "\n",
    "# # display images in napari\n",
    "# imgs_list_new[fov_to_visualize-1].view_on_napari()"
   ]
  }
 ],
 "metadata": {
  "kernelspec": {
   "display_name": "Python 3",
   "language": "python",
   "name": "python3"
  },
  "language_info": {
   "codemirror_mode": {
    "name": "ipython",
    "version": 3
   },
   "file_extension": ".py",
   "mimetype": "text/x-python",
   "name": "python",
   "nbconvert_exporter": "python",
   "pygments_lexer": "ipython3",
   "version": "3.10.9"
  },
  "orig_nbformat": 4,
  "vscode": {
   "interpreter": {
    "hash": "e7f35bad49fc684f04c47e4f574c37bc56f05d706e5c4f9185fc5e04a34c2077"
   }
  }
 },
 "nbformat": 4,
 "nbformat_minor": 2
}
